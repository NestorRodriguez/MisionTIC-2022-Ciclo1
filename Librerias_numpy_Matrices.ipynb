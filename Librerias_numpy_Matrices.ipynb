{
  "nbformat": 4,
  "nbformat_minor": 0,
  "metadata": {
    "colab": {
      "name": "Librerias numpy - Matrices.ipynb",
      "provenance": [],
      "authorship_tag": "ABX9TyNBB4VI8V0TfvXHEvfmFdo4",
      "include_colab_link": true
    },
    "kernelspec": {
      "name": "python3",
      "display_name": "Python 3"
    },
    "language_info": {
      "name": "python"
    }
  },
  "cells": [
    {
      "cell_type": "markdown",
      "metadata": {
        "id": "view-in-github",
        "colab_type": "text"
      },
      "source": [
        "<a href=\"https://colab.research.google.com/github/NestorRodriguez/MisionTIC-2022-Ciclo1/blob/main/Librerias_numpy_Matrices.ipynb\" target=\"_parent\"><img src=\"https://colab.research.google.com/assets/colab-badge.svg\" alt=\"Open In Colab\"/></a>"
      ]
    },
    {
      "cell_type": "code",
      "execution_count": 9,
      "metadata": {
        "colab": {
          "base_uri": "https://localhost:8080/"
        },
        "id": "1Xgm8_5gDKIo",
        "outputId": "4e1f4836-3002-45ad-d578-54d02f410b0c"
      },
      "outputs": [
        {
          "output_type": "stream",
          "name": "stdout",
          "text": [
            "[[0. 0. 0.]\n",
            " [0. 0. 0.]]\n",
            "[[1. 1. 1. 1.]\n",
            " [1. 1. 1. 1.]\n",
            " [1. 1. 1. 1.]\n",
            " [1. 1. 1. 1.]]\n",
            "[[0. 0.]\n",
            " [0. 0.]\n",
            " [0. 0.]]\n",
            "[[0.52140519 0.62851833]\n",
            " [0.53343239 0.57018143]\n",
            " [0.17959886 0.17380963]]\n",
            "[[67 57 67]\n",
            " [72 79 68]]\n",
            "[[5 5]\n",
            " [5 5]]\n"
          ]
        }
      ],
      "source": [
        "import numpy as np \n",
        "\n",
        "matrizCeros = np.zeros((2,3))\n",
        "print(matrizCeros)\n",
        "\n",
        "# matriz cuadrada de 1\n",
        "matrizUnos = np.ones((4,4))\n",
        "print(matrizUnos)\n",
        "\n",
        "matrizVacia = np.empty((3,2))\n",
        "print(matrizVacia)\n",
        "\n",
        "matriz = np.random.rand(3,2)\n",
        "print(matriz)\n",
        "\n",
        "matrizInt = np.random.randint(50 , 100, size=(2, 3))\n",
        "print(matrizInt)\n",
        "\n",
        "matriz = np.full((2,2) , 5)\n",
        "print(matriz)"
      ]
    },
    {
      "cell_type": "code",
      "source": [
        "# Vectores con tamaños constantes\n",
        "matrizEspaciado = np.arange(5, 30, 5)\n",
        "print(matrizEspaciado)\n",
        "matrizEspaciado = np.arange(0, 2, 0.5)\n",
        "print(matrizEspaciado)\n",
        "\n",
        "start = 1\n",
        "while start < 5:\n",
        "  matrizEspaciado = np.arange(5, 30, start)\n",
        "  print(matrizEspaciado)\n",
        "  start += 1\n",
        "print('Pasos de cinco')\n",
        "start = 5\n",
        "while start < 40:\n",
        "  matrizEspaciado = np.arange(5, 30, start)\n",
        "  print(matrizEspaciado)\n",
        "  start += 5\n"
      ],
      "metadata": {
        "colab": {
          "base_uri": "https://localhost:8080/"
        },
        "id": "SyFl8OKrOKsB",
        "outputId": "f5e95db4-e1d9-42c4-a92e-78c99d02a592"
      },
      "execution_count": 28,
      "outputs": [
        {
          "output_type": "stream",
          "name": "stdout",
          "text": [
            "[ 5 10 15 20 25]\n",
            "[0.  0.5 1.  1.5]\n",
            "[ 5  6  7  8  9 10 11 12 13 14 15 16 17 18 19 20 21 22 23 24 25 26 27 28\n",
            " 29]\n",
            "[ 5  7  9 11 13 15 17 19 21 23 25 27 29]\n",
            "[ 5  8 11 14 17 20 23 26 29]\n",
            "[ 5  9 13 17 21 25 29]\n",
            "Pasos de cinco\n",
            "[ 5 10 15 20 25]\n",
            "[ 5 15 25]\n",
            "[ 5 20]\n",
            "[ 5 25]\n",
            "[5]\n",
            "[5]\n",
            "[5]\n"
          ]
        }
      ]
    },
    {
      "cell_type": "code",
      "source": [
        "\n",
        "matrizIdentidad = np.identity(4)\n",
        "print(matrizIdentidad)\n",
        "matrizIdentidad = np.eye(4,4)\n",
        "print(matrizIdentidad)"
      ],
      "metadata": {
        "colab": {
          "base_uri": "https://localhost:8080/"
        },
        "id": "JJvXqC07TLKF",
        "outputId": "056007c8-a0c4-458a-f17c-d8ad3b4d51f6"
      },
      "execution_count": 30,
      "outputs": [
        {
          "output_type": "stream",
          "name": "stdout",
          "text": [
            "[[1. 0. 0. 0.]\n",
            " [0. 1. 0. 0.]\n",
            " [0. 0. 1. 0.]\n",
            " [0. 0. 0. 1.]]\n",
            "[[1. 0. 0. 0.]\n",
            " [0. 1. 0. 0.]\n",
            " [0. 0. 1. 0.]\n",
            " [0. 0. 0. 1.]]\n"
          ]
        }
      ]
    },
    {
      "cell_type": "code",
      "source": [
        "matriz = np.array([(1,2,3),(4,5,6),(7,8,9),(10,11,12)])\n",
        "print(matriz)\n",
        "print(matriz.ndim)\n",
        "print(matriz.dtype)\n",
        "print(matriz.size)\n",
        "print(matriz.shape)\n",
        "matriz = matriz.reshape(3,4)\n",
        "print(matriz)\n",
        "vector = matriz.reshape(12)\n",
        "print(vector)"
      ],
      "metadata": {
        "colab": {
          "base_uri": "https://localhost:8080/"
        },
        "id": "IieSJcdRUggh",
        "outputId": "82150875-bd7b-42c9-9fce-0218ab4b82f3"
      },
      "execution_count": 39,
      "outputs": [
        {
          "output_type": "stream",
          "name": "stdout",
          "text": [
            "[[ 1  2  3]\n",
            " [ 4  5  6]\n",
            " [ 7  8  9]\n",
            " [10 11 12]]\n",
            "2\n",
            "int64\n",
            "12\n",
            "(4, 3)\n",
            "[[ 1  2  3  4]\n",
            " [ 5  6  7  8]\n",
            " [ 9 10 11 12]]\n",
            "[ 1  2  3  4  5  6  7  8  9 10 11 12]\n"
          ]
        }
      ]
    },
    {
      "cell_type": "code",
      "source": [
        "# Solicitar al usuario las dimensiones de la matriz, crearla y el usuario debe digitar solo los \n",
        "# valores diagonales de la matriz , los demás valores de la matriz deben ser un valor mayor a 0."
      ],
      "metadata": {
        "id": "tNnKRbT1XMIn"
      },
      "execution_count": null,
      "outputs": []
    }
  ]
}