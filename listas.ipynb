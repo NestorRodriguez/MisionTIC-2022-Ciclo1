{
  "nbformat": 4,
  "nbformat_minor": 0,
  "metadata": {
    "colab": {
      "name": "listas.ipynb",
      "provenance": [],
      "authorship_tag": "ABX9TyP8LTm922AisYitZc/PEqPx",
      "include_colab_link": true
    },
    "kernelspec": {
      "name": "python3",
      "display_name": "Python 3"
    },
    "language_info": {
      "name": "python"
    }
  },
  "cells": [
    {
      "cell_type": "markdown",
      "metadata": {
        "id": "view-in-github",
        "colab_type": "text"
      },
      "source": [
        "<a href=\"https://colab.research.google.com/github/NestorRodriguez/MisionTIC-2022-Ciclo1/blob/main/listas.ipynb\" target=\"_parent\"><img src=\"https://colab.research.google.com/assets/colab-badge.svg\" alt=\"Open In Colab\"/></a>"
      ]
    },
    {
      "cell_type": "markdown",
      "source": [
        "Estructuras de datos - listas"
      ],
      "metadata": {
        "id": "JRHpKRGgxVzZ"
      }
    },
    {
      "cell_type": "code",
      "execution_count": 23,
      "metadata": {
        "colab": {
          "base_uri": "https://localhost:8080/"
        },
        "id": "Q7q_cnCAfoLn",
        "outputId": "dc41756c-98f3-47a8-aad6-af859f391cb5"
      },
      "outputs": [
        {
          "output_type": "stream",
          "name": "stdout",
          "text": [
            "[1, 2, 3]\n",
            "['Juan', 'Pedro', 'Jesus', 'Jose']\n",
            "['Maria', True, 0]\n",
            "0\n",
            "Jose\n",
            "True\n",
            "['Juan', 'Pedro']\n",
            "['Juan']\n",
            "['Jesus', 'Jose']\n"
          ]
        }
      ],
      "source": [
        "# Listas\n",
        "list = [1 , 2 , 3]\n",
        "print(list)\n",
        "listNombre = ['Juan', 'Pedro', 'Jesus', 'Jose']\n",
        "print(listNombre)\n",
        "listMixta = ['Maria', True, 0]\n",
        "print(listMixta)\n",
        "\n",
        "# Aceeso a una posición de la lista\n",
        "print(listMixta[2])\n",
        "\n",
        "# Acceso invertido\n",
        "print(listNombre[-1])\n",
        "print(listMixta[-2])\n",
        "\n",
        "# Rangos no incluye el ultimo indice\n",
        "print(listNombre[0:2])\n",
        "\n",
        "#Rango toda la lista sin incluir el indice de referencia\n",
        "print(listNombre[:1])\n",
        "\n",
        "#Rango - trae la lista desde el indice mencionado (incluyendolo) hasta el final de la lista\n",
        "print(listNombre[2:])"
      ]
    },
    {
      "cell_type": "code",
      "source": [
        "# Listas\n",
        "list = [1 , 2 , 3]\n",
        "print(list)\n",
        "listNombre = ['Juan', 'Pedro', 'Jesus', 'Jose']\n",
        "print(listNombre)\n",
        "listMixta = ['Maria', True, 0]\n",
        "print(listMixta)\n",
        "# Asignación\n",
        "listNombre[1] = 'Maria'\n",
        "print(listNombre)\n",
        "# Recorrido\n",
        "for valor in listMixta:\n",
        "  print(valor)\n",
        "else:\n",
        "  print('No hay más elementos')\n",
        "# longitud\n",
        "print(len(listNombre))\n",
        "\n"
      ],
      "metadata": {
        "colab": {
          "base_uri": "https://localhost:8080/"
        },
        "id": "M3Ue61WtxVIk",
        "outputId": "5b28618b-8dbe-4dab-cd6d-b993c0ed5ec1"
      },
      "execution_count": 29,
      "outputs": [
        {
          "output_type": "stream",
          "name": "stdout",
          "text": [
            "[1, 2, 3]\n",
            "['Juan', 'Pedro', 'Jesus', 'Jose']\n",
            "['Maria', True, 0]\n",
            "['Juan', 'Maria', 'Jesus', 'Jose']\n",
            "Maria\n",
            "True\n",
            "0\n",
            "No hay más elementos\n",
            "4\n"
          ]
        }
      ]
    },
    {
      "cell_type": "code",
      "source": [
        "# listas - operaciones\n",
        "listNombre = ['Juan', 'Pedro', 'Jesus', 'Jose']\n",
        "print(listNombre)\n",
        "# Agregar\n",
        "listNombre.append('Nestor')\n",
        "listNombre.append('Nestor')\n",
        "print(listNombre)\n",
        "# Agregar con indice\n",
        "# listNombre.insert(len(listNombre), 'Alejandra')\n",
        "listNombre.insert(1, 'Alejandra')\n",
        "print(listNombre)\n",
        "\n",
        "# Remover valor\n",
        "listNombre.remove('Nestor')\n",
        "print(listNombre)\n",
        "\n",
        "# Remover el último \n",
        "listNombre.pop()\n",
        "listNombre.pop()\n",
        "print(listNombre)\n",
        "\n",
        "# Remover con indice\n",
        "del listNombre[1]\n",
        "print(listNombre)\n",
        "\n",
        "# Limpiar\n",
        "listNombre.clear()\n",
        "print(listNombre)\n",
        "\n",
        "# Remover la lista\n",
        "del listNombre\n"
      ],
      "metadata": {
        "id": "p-2c7C9J6XCJ",
        "outputId": "56d960ce-0b81-44da-cd4f-e44e6f9b1920",
        "colab": {
          "base_uri": "https://localhost:8080/"
        }
      },
      "execution_count": 48,
      "outputs": [
        {
          "output_type": "stream",
          "name": "stdout",
          "text": [
            "['Juan', 'Pedro', 'Jesus', 'Jose']\n",
            "['Juan', 'Pedro', 'Jesus', 'Jose', 'Nestor', 'Nestor']\n",
            "['Juan', 'Alejandra', 'Pedro', 'Jesus', 'Jose', 'Nestor', 'Nestor']\n",
            "['Juan', 'Alejandra', 'Pedro', 'Jesus', 'Jose', 'Nestor']\n",
            "['Juan', 'Alejandra', 'Pedro', 'Jesus']\n",
            "['Juan', 'Pedro', 'Jesus']\n",
            "[]\n"
          ]
        }
      ]
    },
    {
      "cell_type": "code",
      "source": [
        "# Ejercicio Jaime - eliminar los nestor\n",
        "listNombre = ['Juan', 'Pedro', 'Jesus', 'Jose']\n",
        "# Agregar\n",
        "listNombre.append('Nestor')\n",
        "listNombre.append('Nestor')\n",
        "print(listNombre)\n",
        "for nombre in listNombre:\n",
        "  if nombre == 'Nestor':\n",
        "    listNombre.remove('Nestor')\n",
        "print(listNombre)"
      ],
      "metadata": {
        "id": "66tYHDiy_H1r",
        "outputId": "be779b0f-eb36-4c08-b392-a1b20952d598",
        "colab": {
          "base_uri": "https://localhost:8080/"
        }
      },
      "execution_count": 52,
      "outputs": [
        {
          "output_type": "stream",
          "name": "stdout",
          "text": [
            "['Juan', 'Pedro', 'Jesus', 'Jose', 'Nestor', 'Nestor']\n",
            "['Juan', 'Pedro', 'Jesus', 'Jose', 'Nestor']\n"
          ]
        }
      ]
    },
    {
      "cell_type": "markdown",
      "source": [
        ""
      ],
      "metadata": {
        "id": "Hc6lGJDv_HhS"
      }
    },
    {
      "cell_type": "markdown",
      "source": [
        ""
      ],
      "metadata": {
        "id": "b0ugYkIDxUhT"
      }
    }
  ]
}