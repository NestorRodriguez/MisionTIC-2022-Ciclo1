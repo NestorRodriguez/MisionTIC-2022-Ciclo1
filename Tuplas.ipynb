{
  "nbformat": 4,
  "nbformat_minor": 0,
  "metadata": {
    "colab": {
      "name": "Tuplas.ipynb",
      "provenance": [],
      "authorship_tag": "ABX9TyNbyoxdKmYcAjMD+ik4G8bV",
      "include_colab_link": true
    },
    "kernelspec": {
      "name": "python3",
      "display_name": "Python 3"
    },
    "language_info": {
      "name": "python"
    }
  },
  "cells": [
    {
      "cell_type": "markdown",
      "metadata": {
        "id": "view-in-github",
        "colab_type": "text"
      },
      "source": [
        "<a href=\"https://colab.research.google.com/github/NestorRodriguez/MisionTIC-2022-Ciclo1/blob/main/Tuplas.ipynb\" target=\"_parent\"><img src=\"https://colab.research.google.com/assets/colab-badge.svg\" alt=\"Open In Colab\"/></a>"
      ]
    },
    {
      "cell_type": "code",
      "execution_count": 14,
      "metadata": {
        "colab": {
          "base_uri": "https://localhost:8080/"
        },
        "id": "HNlZkwHS3vCX",
        "outputId": "311738d3-7e93-439c-dac6-fbe031155d83"
      },
      "outputs": [
        {
          "output_type": "stream",
          "name": "stdout",
          "text": [
            "3\n",
            "Medellin\n",
            "Cali\n",
            "('Bogota',)\n",
            "('Cali', 'Medellin')\n",
            "('Bogota', 'Cali')\n",
            "Bogota\n",
            "Cali\n",
            "Medellin\n",
            "['Barranquilla', 'Cali', 'Medellin']\n",
            "('Barranquilla', 'Cali', 'Medellin')\n"
          ]
        }
      ],
      "source": [
        "# Estructura de datos - Tuplas\n",
        "# Inmutables\n",
        "ciudades = ('Bogota', 'Cali', 'Medellin')\n",
        "\n",
        "# longitud\n",
        "print(len(ciudades))\n",
        "\n",
        "# Acceso a los elementos de la tupla\n",
        "print(ciudades[2])\n",
        "\n",
        "# Acceso invertido\n",
        "print(ciudades[-2])\n",
        "\n",
        "# Rangos\n",
        "# Rangos no incluye el ultimo indice\n",
        "print(ciudades[0:1])\n",
        "\n",
        "#Rango - trae la lista desde el indice mencionado (incluyendolo) hasta el final de la lista\n",
        "print(ciudades[1:])\n",
        "\n",
        "#Rango toda la lista sin incluir el indice de referencia\n",
        "print(ciudades[:2])\n",
        "\n",
        "# Recorridos\n",
        "for ciudad in ciudades:\n",
        "  print(ciudad)\n",
        "\n",
        "# Modificación de un valor de un indice\n",
        "listaCiudades = list(ciudades)\n",
        "listaCiudades[0]='Barranquilla'\n",
        "print(listaCiudades)\n",
        "ciudades = tuple(listaCiudades)\n",
        "print(ciudades)"
      ]
    },
    {
      "cell_type": "code",
      "source": [
        "# Range\n",
        "for i in range(10):\n",
        "  if i % 2 != 0:\n",
        "    print(i)"
      ],
      "metadata": {
        "colab": {
          "base_uri": "https://localhost:8080/"
        },
        "id": "fOa2xffiBPM4",
        "outputId": "68ba354c-e854-4b29-c688-525a1eac771c"
      },
      "execution_count": 18,
      "outputs": [
        {
          "output_type": "stream",
          "name": "stdout",
          "text": [
            "1\n",
            "3\n",
            "5\n",
            "7\n",
            "9\n"
          ]
        }
      ]
    },
    {
      "cell_type": "code",
      "source": [
        "# Ejercicio 1\n",
        "# Se tiene la siguiente tupla\n",
        "numeros = (1,10, 27, 2, 5 , 9)\n",
        "# En una lista, muestre los valore menores o iguales a 10\n",
        "\n",
        "# Ejercicio 2\n",
        "# En un rango de 100 números agrega a una tupla los pares y a una lista los impares\n",
        "\n",
        "#Ejercicio 3\n",
        "# Agregue en una lista todos los números que sean divisibles por 3 hasta el 200 "
      ],
      "metadata": {
        "id": "S3Nj6ZNQDTYE"
      },
      "execution_count": null,
      "outputs": []
    }
  ]
}