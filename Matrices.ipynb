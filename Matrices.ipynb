{
  "nbformat": 4,
  "nbformat_minor": 0,
  "metadata": {
    "colab": {
      "name": "Matrices.ipynb",
      "provenance": [],
      "authorship_tag": "ABX9TyMb+SK8s/rbkGw4phAgTod7",
      "include_colab_link": true
    },
    "kernelspec": {
      "name": "python3",
      "display_name": "Python 3"
    },
    "language_info": {
      "name": "python"
    }
  },
  "cells": [
    {
      "cell_type": "markdown",
      "metadata": {
        "id": "view-in-github",
        "colab_type": "text"
      },
      "source": [
        "<a href=\"https://colab.research.google.com/github/NestorRodriguez/MisionTIC-2022-Ciclo1/blob/main/Matrices.ipynb\" target=\"_parent\"><img src=\"https://colab.research.google.com/assets/colab-badge.svg\" alt=\"Open In Colab\"/></a>"
      ]
    },
    {
      "cell_type": "code",
      "execution_count": 36,
      "metadata": {
        "colab": {
          "base_uri": "https://localhost:8080/"
        },
        "id": "mTPo9ChtiK40",
        "outputId": "fffe9aca-0b66-4a70-9daf-8b2adcc60e1c"
      },
      "outputs": [
        {
          "output_type": "stream",
          "name": "stdout",
          "text": [
            "[[1 2 3]\n",
            " [4 5 6]]\n",
            "6\n",
            "1\n",
            "21\n",
            "[5 7 9]\n",
            "720\n",
            "[[ 2  4  6]\n",
            " [ 8 10 12]]\n",
            "[[0 0 0]\n",
            " [0 0 0]]\n",
            "[[ 1  4  9]\n",
            " [16 25 36]]\n",
            "[[1. 1. 1.]\n",
            " [1. 1. 1.]]\n",
            "[[2 2 2]]\n",
            "[[3 4 5]\n",
            " [6 7 8]]\n",
            "[[-1  0  1]\n",
            " [ 2  3  4]]\n",
            "[[ 2  4  6]\n",
            " [ 8 10 12]]\n",
            "[[0.5 1.  1.5]\n",
            " [2.  2.5 3. ]]\n"
          ]
        }
      ],
      "source": [
        "# Matrices - operaciones aritméticas\n",
        "import numpy as np\n",
        "\n",
        "matriz = np.array([(1,2,3),(4,5,6)])\n",
        "print(matriz)\n",
        "print(matriz.max())\n",
        "print(matriz.min())\n",
        "print(matriz.sum())\n",
        "print(matriz.sum(0))\n",
        "print(matriz.prod())\n",
        "# La matriz debe ser de igual tamaño, es decir, en este caso es de 2x3\n",
        "a = np.array([(1,2,3),(4,5,6)])\n",
        "b = np.array([(1,2,3),(4,5,6)])\n",
        "print(a+b)\n",
        "print(a-b)\n",
        "print(a*b)\n",
        "print(a/b)\n",
        "# El vector debe ser del mismo tamaño de las columnas\n",
        "a = np.array([(1,2,3),(4,5,6)])\n",
        "c = np.array([(2,2,2)])\n",
        "print(c)\n",
        "print(a + c)\n",
        "print(a - c)\n",
        "print(a * c)\n",
        "print(a / c)"
      ]
    },
    {
      "cell_type": "code",
      "source": [
        "# Ejercicios \n",
        "#Cambiar la posición de textos de un arreglo\n",
        "# Nike es mejor que Adidas\n",
        "# Adidas es mejor que Nike\n",
        "texto ='Por ahora, Nike es mejor que Adidas'\n",
        "print(texto)\n",
        "palabras = texto.split()\n",
        "print(palabras)\n",
        "for i in range(len(palabras)):\n",
        "  if 'Nike' in palabras[i]:\n",
        "    palabras[i] = 'Adidas'\n",
        "  elif 'Adidas' in palabras[i]:\n",
        "    palabras[i] = 'Nike'\n",
        "\n",
        "print(*palabras)"
      ],
      "metadata": {
        "colab": {
          "base_uri": "https://localhost:8080/"
        },
        "id": "08wCk44f5Rpf",
        "outputId": "12bd742b-9fce-4b35-a58e-51259f5f9e25"
      },
      "execution_count": 49,
      "outputs": [
        {
          "output_type": "stream",
          "name": "stdout",
          "text": [
            "Por ahora, Nike es mejor que Adidas\n",
            "['Por', 'ahora,', 'Nike', 'es', 'mejor', 'que', 'Adidas']\n",
            "Por ahora, Adidas es mejor que Nike\n"
          ]
        }
      ]
    },
    {
      "cell_type": "code",
      "source": [
        ""
      ],
      "metadata": {
        "id": "148Pdesm_LcG"
      },
      "execution_count": null,
      "outputs": []
    }
  ]
}