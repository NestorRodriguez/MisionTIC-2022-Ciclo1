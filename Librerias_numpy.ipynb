{
  "nbformat": 4,
  "nbformat_minor": 0,
  "metadata": {
    "colab": {
      "name": "Librerias - numpy.ipynb",
      "provenance": [],
      "authorship_tag": "ABX9TyO0mffad4h0oIDW13AxHrU2",
      "include_colab_link": true
    },
    "kernelspec": {
      "name": "python3",
      "display_name": "Python 3"
    },
    "language_info": {
      "name": "python"
    }
  },
  "cells": [
    {
      "cell_type": "markdown",
      "metadata": {
        "id": "view-in-github",
        "colab_type": "text"
      },
      "source": [
        "<a href=\"https://colab.research.google.com/github/NestorRodriguez/MisionTIC-2022-Ciclo1/blob/main/Librerias_numpy.ipynb\" target=\"_parent\"><img src=\"https://colab.research.google.com/assets/colab-badge.svg\" alt=\"Open In Colab\"/></a>"
      ]
    },
    {
      "cell_type": "code",
      "execution_count": 18,
      "metadata": {
        "colab": {
          "base_uri": "https://localhost:8080/"
        },
        "id": "21LXax7uxOwA",
        "outputId": "593fb431-5c0c-4ec1-85af-955fde72551e"
      },
      "outputs": [
        {
          "output_type": "stream",
          "name": "stdout",
          "text": [
            "48000000\n",
            "8000000\n",
            "Listas\n",
            "400.64072608947754\n",
            "Numpy\n",
            "4.706859588623047\n"
          ]
        }
      ],
      "source": [
        "import numpy as np\n",
        "import sys\n",
        "import time\n",
        "\n",
        "# Por qué numpy\n",
        "# Tamaño\n",
        "\n",
        "s = range(1000000)\n",
        "print(sys.getsizeof(s)*len(s))\n",
        "\n",
        "d = np.arange(1000000)\n",
        "print(d.size * d.itemsize)\n",
        "\n",
        "# Tiempo\n",
        "SIZE = 2000000\n",
        "l1 = range(SIZE)\n",
        "l2 = range(SIZE)\n",
        "a1 = np.arange(SIZE)\n",
        "a2 = np.arange(SIZE)\n",
        "\n",
        "print('Listas')\n",
        "start = time.time()\n",
        "# Convertir en iterador con zip y luego separarlos en un vector\n",
        "iterador = zip(l1,l2)\n",
        "result = [(x,y) for x,y in iterador]\n",
        "print((time.time()-start)*1000)\n",
        "print(\"Numpy\")\n",
        "start = time.time()\n",
        "d = a1 + a2\n",
        "print((time.time()-start)*1000)"
      ]
    },
    {
      "cell_type": "code",
      "source": [
        "# Ejercicios con numpy\n",
        "# Vectores\n",
        "vectorUnos = np.ones((8))\n",
        "print(vectorUnos)\n",
        "\n",
        "vectorCeros = np.zeros((4))\n",
        "print(vectorCeros)\n",
        "\n",
        "vectorVacio = np.empty((2))\n",
        "print(vectorVacio)\n",
        "\n",
        "vector = np.append(2,4)\n",
        "print(vector)\n",
        "\n",
        "vector2 = np.append(vector, [10, 20, 30])\n",
        "print(vector2)\n",
        "\n",
        "vector3 = np.array([2,4])\n",
        "print(vector3)\n",
        "\n",
        "vectorAleatorio = np.random.rand(3)\n",
        "print(vectorAleatorio)\n",
        "\n",
        "vectorAleatorio1 = np.random.randint(5,20,size=5)\n",
        "print(vectorAleatorio1)\n",
        "\n",
        "vectorConValorUnico = np.full((8), 100)\n",
        "print(vectorConValorUnico)\n"
      ],
      "metadata": {
        "colab": {
          "base_uri": "https://localhost:8080/"
        },
        "id": "fIJxDnsuPxBC",
        "outputId": "0b3d64a9-6d78-4e60-838a-73dd97094b7d"
      },
      "execution_count": 32,
      "outputs": [
        {
          "output_type": "stream",
          "name": "stdout",
          "text": [
            "[1. 1. 1. 1. 1. 1. 1. 1.]\n",
            "[0. 0. 0. 0.]\n",
            "[1.e-323 2.e-323]\n",
            "[2 4]\n",
            "[ 2  4 10 20 30]\n",
            "[2 4]\n",
            "[0.86410328 0.52181957 0.41529611]\n",
            "[ 5 13  5 12 19]\n",
            "[100 100 100 100 100 100 100 100]\n"
          ]
        }
      ]
    },
    {
      "cell_type": "code",
      "source": [
        ""
      ],
      "metadata": {
        "id": "szeQplNUUAhx"
      },
      "execution_count": null,
      "outputs": []
    }
  ]
}