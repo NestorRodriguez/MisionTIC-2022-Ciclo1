{
  "nbformat": 4,
  "nbformat_minor": 0,
  "metadata": {
    "colab": {
      "name": "Condicionales.ipynb",
      "provenance": [],
      "authorship_tag": "ABX9TyNDxRlnSsGCcSbghSg0Jjfk",
      "include_colab_link": true
    },
    "kernelspec": {
      "name": "python3",
      "display_name": "Python 3"
    },
    "language_info": {
      "name": "python"
    }
  },
  "cells": [
    {
      "cell_type": "markdown",
      "metadata": {
        "id": "view-in-github",
        "colab_type": "text"
      },
      "source": [
        "<a href=\"https://colab.research.google.com/github/NestorRodriguez/MisionTIC-2022-Ciclo1/blob/main/Condicionales.ipynb\" target=\"_parent\"><img src=\"https://colab.research.google.com/assets/colab-badge.svg\" alt=\"Open In Colab\"/></a>"
      ]
    },
    {
      "cell_type": "markdown",
      "source": [
        "Condicional con tipo de dato Boolean"
      ],
      "metadata": {
        "id": "L9eE9So9w0tf"
      }
    },
    {
      "cell_type": "code",
      "execution_count": 4,
      "metadata": {
        "colab": {
          "base_uri": "https://localhost:8080/"
        },
        "id": "HACnuTlzwJh2",
        "outputId": "38473d75-ec75-446e-ef76-31dff1c82c5a"
      },
      "outputs": [
        {
          "output_type": "stream",
          "name": "stdout",
          "text": [
            "Valor falso\n"
          ]
        }
      ],
      "source": [
        "valor = False\n",
        "if valor:\n",
        "  print('valor verdadero')\n",
        "else:\n",
        "  print('Valor falso')"
      ]
    },
    {
      "cell_type": "markdown",
      "source": [
        "Condicional con valor int, float"
      ],
      "metadata": {
        "id": "By8A3Mv6wzTs"
      }
    },
    {
      "cell_type": "code",
      "source": [
        "valor = 3\n",
        "# Formato de una condición\n",
        "# 1. variable\n",
        "# 2. Operador lógico\n",
        "# 3. Valor a comparar\n",
        "if valor > 5:\n",
        "  print('La variable es mayor a 5')\n",
        "  print('Si es mayor')\n",
        "else:\n",
        "  print('La variable es menor a 5')"
      ],
      "metadata": {
        "colab": {
          "base_uri": "https://localhost:8080/"
        },
        "id": "pJHH93iHwy0_",
        "outputId": "033142ca-0d81-48dc-8cc2-f4c7bcc3424d"
      },
      "execution_count": 8,
      "outputs": [
        {
          "output_type": "stream",
          "name": "stdout",
          "text": [
            "La variable es menor a 5\n"
          ]
        }
      ]
    },
    {
      "cell_type": "markdown",
      "source": [
        "Condicional con string"
      ],
      "metadata": {
        "id": "rRzQ_9Bbwxfr"
      }
    },
    {
      "cell_type": "code",
      "source": [
        "palabra = 'Mamá'\n",
        "# Formato de una condición\n",
        "# 1. variable\n",
        "# 2. Operador lógico\n",
        "# 3. Valor a comparar\n",
        "if palabra == 'mamá':\n",
        "  print('Si es sigual')\n",
        "else:\n",
        "  print('No es mamá')"
      ],
      "metadata": {
        "colab": {
          "base_uri": "https://localhost:8080/"
        },
        "id": "NVGN_yA8-cg4",
        "outputId": "8c913c6e-f3d5-4187-e9db-f154f5e22367"
      },
      "execution_count": 12,
      "outputs": [
        {
          "output_type": "stream",
          "name": "stdout",
          "text": [
            "No es mamá\n"
          ]
        }
      ]
    }
  ]
}