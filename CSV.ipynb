{
  "nbformat": 4,
  "nbformat_minor": 0,
  "metadata": {
    "colab": {
      "name": "CSV.ipynb",
      "provenance": [],
      "authorship_tag": "ABX9TyM6+6aaDmsht2QRJ5Ry/xP4",
      "include_colab_link": true
    },
    "kernelspec": {
      "name": "python3",
      "display_name": "Python 3"
    },
    "language_info": {
      "name": "python"
    }
  },
  "cells": [
    {
      "cell_type": "markdown",
      "metadata": {
        "id": "view-in-github",
        "colab_type": "text"
      },
      "source": [
        "<a href=\"https://colab.research.google.com/github/NestorRodriguez/MisionTIC-2022-Ciclo1/blob/main/CSV.ipynb\" target=\"_parent\"><img src=\"https://colab.research.google.com/assets/colab-badge.svg\" alt=\"Open In Colab\"/></a>"
      ]
    },
    {
      "cell_type": "code",
      "execution_count": 1,
      "metadata": {
        "id": "l6JBrLcYUCPy"
      },
      "outputs": [],
      "source": [
        "# Construir un csv\n",
        "import csv\n",
        " \n",
        "titulo = ['Año','Marca','Modelo','Descripción','Precio']\n",
        "data = [\n",
        "         [1997,'Ford','E350',\"ac, abs, moon\",3000.00],\n",
        "         [1999,'Chevyr','Venture','Extended Edition',4900.00],\n",
        "         [1999,'Chevy','Venture',\"Extended Edition, Very Large\",5000.00]\n",
        "]\n",
        "\n",
        "with open ('carros.csv','w') as csv_carros:\n",
        "  escribir_archivo = csv.writer(csv_carros)\n",
        "\n",
        "  escribir_archivo.writerow(titulo)\n",
        "  escribir_archivo.writerows(data)"
      ]
    },
    {
      "cell_type": "code",
      "source": [
        "# Leer un csv\n",
        "!wget https://raw.githubusercontent.com/cosmolejo/dataRepo/master/starwars_characters.csv"
      ],
      "metadata": {
        "colab": {
          "base_uri": "https://localhost:8080/"
        },
        "id": "7IplmcpyZK38",
        "outputId": "b5a90b9f-734e-48ab-fc43-4b834fad6a2a"
      },
      "execution_count": 2,
      "outputs": [
        {
          "output_type": "stream",
          "name": "stdout",
          "text": [
            "--2022-05-27 02:43:20--  https://raw.githubusercontent.com/cosmolejo/dataRepo/master/starwars_characters.csv\n",
            "Resolving raw.githubusercontent.com (raw.githubusercontent.com)... 185.199.110.133, 185.199.109.133, 185.199.108.133, ...\n",
            "Connecting to raw.githubusercontent.com (raw.githubusercontent.com)|185.199.110.133|:443... connected.\n",
            "HTTP request sent, awaiting response... 200 OK\n",
            "Length: 5462 (5.3K) [text/plain]\n",
            "Saving to: ‘starwars_characters.csv’\n",
            "\n",
            "starwars_characters 100%[===================>]   5.33K  --.-KB/s    in 0s      \n",
            "\n",
            "2022-05-27 02:43:20 (50.8 MB/s) - ‘starwars_characters.csv’ saved [5462/5462]\n",
            "\n"
          ]
        }
      ]
    },
    {
      "cell_type": "code",
      "source": [
        "# Lectura del CSV\n",
        "import csv\n",
        "\n",
        "titulo = []\n",
        "data = []\n",
        "\n",
        "with open ('starwars_characters.csv','r') as starwars:\n",
        "  lectura = csv.reader(starwars)\n",
        "  # Titulos del csv\n",
        "  titulo = next(lectura)\n",
        "  print(titulo)\n",
        "  # Data del csv\n",
        "  for i in lectura:\n",
        "    print(i)\n",
        "    data.append(i)\n"
      ],
      "metadata": {
        "colab": {
          "base_uri": "https://localhost:8080/"
        },
        "id": "gINcKmiyZgnD",
        "outputId": "edce66a1-d6e8-493b-d7e2-84acbc9a2464"
      },
      "execution_count": 5,
      "outputs": [
        {
          "output_type": "stream",
          "name": "stdout",
          "text": [
            "['name', 'height', 'mass', 'hair_color', 'skin_color', 'eye_color', 'birth_year', 'gender', 'homeworld', 'species']\n",
            "['Luke Skywalker', '172', '77', 'blond', 'fair', 'blue', '19BBY', 'male', 'Tatooine', 'Human']\n",
            "['C-3PO', '167', '75', 'NA', 'gold', 'yellow', '112BBY', 'NA', 'Tatooine', 'Droid']\n",
            "['R2-D2', '96', '32', 'NA', 'white, blue', 'red', '33BBY', 'NA', 'Naboo', 'Droid']\n",
            "['Darth Vader', '202', '136', 'none', 'white', 'yellow', '41.9BBY', 'male', 'Tatooine', 'Human']\n",
            "['Leia Organa', '150', '49', 'brown', 'light', 'brown', '19BBY', 'female', 'Alderaan', 'Human']\n",
            "['Owen Lars', '178', '120', 'brown, grey', 'light', 'blue', '52BBY', 'male', 'Tatooine', 'Human']\n",
            "['Beru Whitesun lars', '165', '75', 'brown', 'light', 'blue', '47BBY', 'female', 'Tatooine', 'Human']\n",
            "['R5-D4', '97', '32', 'NA', 'white, red', 'red', 'NA', 'NA', 'Tatooine', 'Droid']\n",
            "['Biggs Darklighter', '183', '84', 'black', 'light', 'brown', '24BBY', 'male', 'Tatooine', 'Human']\n",
            "['Obi-Wan Kenobi', '182', '77', 'auburn, white', 'fair', 'blue-gray', '57BBY', 'male', 'Stewjon', 'Human']\n",
            "['Anakin Skywalker', '188', '84', 'blond', 'fair', 'blue', '41.9BBY', 'male', 'Tatooine', 'Human']\n",
            "['Wilhuff Tarkin', '180', 'NA', 'auburn, grey', 'fair', 'blue', '64BBY', 'male', 'Eriadu', 'Human']\n",
            "['Chewbacca', '228', '112', 'brown', 'NA', 'blue', '200BBY', 'male', 'Kashyyyk', 'Wookiee']\n",
            "['Han Solo', '180', '80', 'brown', 'fair', 'brown', '29BBY', 'male', 'Corellia', 'Human']\n",
            "['Greedo', '173', '74', 'NA', 'green', 'black', '44BBY', 'male', 'Rodia', 'Rodian']\n",
            "['Jabba Desilijic Tiure', '175', '1,358', 'NA', 'green-tan, brown', 'orange', '600BBY', 'hermaphrodite', 'Nal Hutta', 'Hutt']\n",
            "['Wedge Antilles', '170', '77', 'brown', 'fair', 'hazel', '21BBY', 'male', 'Corellia', 'Human']\n",
            "['Jek Tono Porkins', '180', '110', 'brown', 'fair', 'blue', 'NA', 'male', 'Bestine IV', 'Human']\n",
            "['Yoda', '66', '17', 'white', 'green', 'brown', '896BBY', 'male', 'NA', \"Yoda's species\"]\n",
            "['Palpatine', '170', '75', 'grey', 'pale', 'yellow', '82BBY', 'male', 'Naboo', 'Human']\n",
            "['Boba Fett', '183', '78.2', 'black', 'fair', 'brown', '31.5BBY', 'male', 'Kamino', 'Human']\n",
            "['IG-88', '200', '140', 'none', 'metal', 'red', '15BBY', 'none', 'NA', 'Droid']\n",
            "['Bossk', '190', '113', 'none', 'green', 'red', '53BBY', 'male', 'Trandosha', 'Trandoshan']\n",
            "['Lando Calrissian', '177', '79', 'black', 'dark', 'brown', '31BBY', 'male', 'Socorro', 'Human']\n",
            "['Lobot', '175', '79', 'none', 'light', 'blue', '37BBY', 'male', 'Bespin', 'Human']\n",
            "['Ackbar', '180', '83', 'none', 'brown mottle', 'orange', '41BBY', 'male', 'Mon Cala', 'Mon Calamari']\n",
            "['Mon Mothma', '150', 'NA', 'auburn', 'fair', 'blue', '48BBY', 'female', 'Chandrila', 'Human']\n",
            "['Arvel Crynyd', 'NA', 'NA', 'brown', 'fair', 'brown', 'NA', 'male', 'NA', 'Human']\n",
            "['Wicket Systri Warrick', '88', '20', 'brown', 'brown', 'brown', '8BBY', 'male', 'Endor', 'Ewok']\n",
            "['Nien Nunb', '160', '68', 'none', 'grey', 'black', 'NA', 'male', 'Sullust', 'Sullustan']\n",
            "['Qui-Gon Jinn', '193', '89', 'brown', 'fair', 'blue', '92BBY', 'male', 'NA', 'Human']\n",
            "['Nute Gunray', '191', '90', 'none', 'mottled green', 'red', 'NA', 'male', 'Cato Neimoidia', 'Neimodian']\n",
            "['Finis Valorum', '170', 'NA', 'blond', 'fair', 'blue', '91BBY', 'male', 'Coruscant', 'Human']\n",
            "['Jar Jar Binks', '196', '66', 'none', 'orange', 'orange', '52BBY', 'male', 'Naboo', 'Gungan']\n",
            "['Roos Tarpals', '224', '82', 'none', 'grey', 'orange', 'NA', 'male', 'Naboo', 'Gungan']\n",
            "['Rugor Nass', '206', 'NA', 'none', 'green', 'orange', 'NA', 'male', 'Naboo', 'Gungan']\n",
            "['Ric Olié', '183', 'NA', 'brown', 'fair', 'blue', 'NA', 'male', 'Naboo', 'NA']\n",
            "['Watto', '137', 'NA', 'black', 'blue, grey', 'yellow', 'NA', 'male', 'Toydaria', 'Toydarian']\n",
            "['Sebulba', '112', '40', 'none', 'grey, red', 'orange', 'NA', 'male', 'Malastare', 'Dug']\n",
            "['Quarsh Panaka', '183', 'NA', 'black', 'dark', 'brown', '62BBY', 'male', 'Naboo', 'NA']\n",
            "['Shmi Skywalker', '163', 'NA', 'black', 'fair', 'brown', '72BBY', 'female', 'Tatooine', 'Human']\n",
            "['Darth Maul', '175', '80', 'none', 'red', 'yellow', '54BBY', 'male', 'Dathomir', 'Zabrak']\n",
            "['Bib Fortuna', '180', 'NA', 'none', 'pale', 'pink', 'NA', 'male', 'Ryloth', \"Twi'lek\"]\n",
            "['Ayla Secura', '178', '55', 'none', 'blue', 'hazel', '48BBY', 'female', 'Ryloth', \"Twi'lek\"]\n",
            "['Dud Bolt', '94', '45', 'none', 'blue, grey', 'yellow', 'NA', 'male', 'Vulpter', 'Vulptereen']\n",
            "['Gasgano', '122', 'NA', 'none', 'white, blue', 'black', 'NA', 'male', 'Troiken', 'Xexto']\n",
            "['Ben Quadinaros', '163', '65', 'none', 'grey, green, yellow', 'orange', 'NA', 'male', 'Tund', 'Toong']\n",
            "['Mace Windu', '188', '84', 'none', 'dark', 'brown', '72BBY', 'male', 'Haruun Kal', 'Human']\n",
            "['Ki-Adi-Mundi', '198', '82', 'white', 'pale', 'yellow', '92BBY', 'male', 'Cerea', 'Cerean']\n",
            "['Kit Fisto', '196', '87', 'none', 'green', 'black', 'NA', 'male', 'Glee Anselm', 'Nautolan']\n",
            "['Eeth Koth', '171', 'NA', 'black', 'brown', 'brown', 'NA', 'male', 'Iridonia', 'Zabrak']\n",
            "['Adi Gallia', '184', '50', 'none', 'dark', 'blue', 'NA', 'female', 'Coruscant', 'Tholothian']\n",
            "['Saesee Tiin', '188', 'NA', 'none', 'pale', 'orange', 'NA', 'male', 'Iktotch', 'Iktotchi']\n",
            "['Yarael Poof', '264', 'NA', 'none', 'white', 'yellow', 'NA', 'male', 'Quermia', 'Quermian']\n",
            "['Plo Koon', '188', '80', 'none', 'orange', 'black', '22BBY', 'male', 'Dorin', 'Kel Dor']\n",
            "['Mas Amedda', '196', 'NA', 'none', 'blue', 'blue', 'NA', 'male', 'Champala', 'Chagrian']\n",
            "['Gregar Typho', '185', '85', 'black', 'dark', 'brown', 'NA', 'male', 'Naboo', 'Human']\n",
            "['Cordé', '157', 'NA', 'brown', 'light', 'brown', 'NA', 'female', 'Naboo', 'Human']\n",
            "['Cliegg Lars', '183', 'NA', 'brown', 'fair', 'blue', '82BBY', 'male', 'Tatooine', 'Human']\n",
            "['Poggle the Lesser', '183', '80', 'none', 'green', 'yellow', 'NA', 'male', 'Geonosis', 'Geonosian']\n",
            "['Luminara Unduli', '170', '56.2', 'black', 'yellow', 'blue', '58BBY', 'female', 'Mirial', 'Mirialan']\n",
            "['Barriss Offee', '166', '50', 'black', 'yellow', 'blue', '40BBY', 'female', 'Mirial', 'Mirialan']\n",
            "['Dormé', '165', 'NA', 'brown', 'light', 'brown', 'NA', 'female', 'Naboo', 'Human']\n",
            "['Dooku', '193', '80', 'white', 'fair', 'brown', '102BBY', 'male', 'Serenno', 'Human']\n",
            "['Bail Prestor Organa', '191', 'NA', 'black', 'tan', 'brown', '67BBY', 'male', 'Alderaan', 'Human']\n",
            "['Jango Fett', '183', '79', 'black', 'tan', 'brown', '66BBY', 'male', 'Concord Dawn', 'Human']\n",
            "['Zam Wesell', '168', '55', 'blonde', 'fair, green, yellow', 'yellow', 'NA', 'female', 'Zolan', 'Clawdite']\n",
            "['Dexter Jettster', '198', '102', 'none', 'brown', 'yellow', 'NA', 'male', 'Ojom', 'Besalisk']\n",
            "['Lama Su', '229', '88', 'none', 'grey', 'black', 'NA', 'male', 'Kamino', 'Kaminoan']\n",
            "['Taun We', '213', 'NA', 'none', 'grey', 'black', 'NA', 'female', 'Kamino', 'Kaminoan']\n",
            "['Jocasta Nu', '167', 'NA', 'white', 'fair', 'blue', 'NA', 'female', 'Coruscant', 'Human']\n",
            "['Ratts Tyerell', '79', '15', 'none', 'grey, blue', 'NA', 'NA', 'male', 'Aleen Minor', 'Aleena']\n",
            "['R4-P17', '96', 'NA', 'none', 'silver, red', 'red, blue', 'NA', 'female', 'NA', 'NA']\n",
            "['Wat Tambor', '193', '48', 'none', 'green, grey', 'NA', 'NA', 'male', 'Skako', 'Skakoan']\n",
            "['San Hill', '191', 'NA', 'none', 'grey', 'gold', 'NA', 'male', 'Muunilinst', 'Muun']\n",
            "['Shaak Ti', '178', '57', 'none', 'red, blue, white', 'black', 'NA', 'female', 'Shili', 'Togruta']\n",
            "['Grievous', '216', '159', 'none', 'brown, white', 'green, yellow', 'NA', 'male', 'Kalee', 'Kaleesh']\n",
            "['Tarfful', '234', '136', 'brown', 'brown', 'blue', 'NA', 'male', 'Kashyyyk', 'Wookiee']\n",
            "['Raymus Antilles', '188', '79', 'brown', 'light', 'brown', 'NA', 'male', 'Alderaan', 'Human']\n",
            "['Sly Moore', '178', '48', 'none', 'pale', 'white', 'NA', 'female', 'Umbara', 'NA']\n",
            "['Tion Medon', '206', '80', 'none', 'grey', 'black', 'NA', 'male', 'Utapau', \"Pau'an\"]\n",
            "['Finn', 'NA', 'NA', 'black', 'dark', 'dark', 'NA', 'male', 'NA', 'Human']\n",
            "['Rey', 'NA', 'NA', 'brown', 'light', 'hazel', 'NA', 'female', 'NA', 'Human']\n",
            "['Poe Dameron', 'NA', 'NA', 'brown', 'light', 'brown', 'NA', 'male', 'NA', 'Human']\n",
            "['BB8', 'NA', 'NA', 'none', 'none', 'black', 'NA', 'none', 'NA', 'Droid']\n",
            "['Captain Phasma', 'NA', 'NA', 'NA', 'NA', 'NA', 'NA', 'female', 'NA', 'NA']\n",
            "['Padmé Amidala', '165', '45', 'brown', 'light', 'brown', '46BBY', 'female', 'Naboo', 'Human']\n"
          ]
        }
      ]
    }
  ]
}