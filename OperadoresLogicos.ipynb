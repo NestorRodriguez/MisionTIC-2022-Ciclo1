{
  "nbformat": 4,
  "nbformat_minor": 0,
  "metadata": {
    "colab": {
      "name": "OperadoresLogicos.ipynb",
      "provenance": [],
      "authorship_tag": "ABX9TyNhUNKRd8v7+vdtIaO6tdDI",
      "include_colab_link": true
    },
    "kernelspec": {
      "name": "python3",
      "display_name": "Python 3"
    },
    "language_info": {
      "name": "python"
    }
  },
  "cells": [
    {
      "cell_type": "markdown",
      "metadata": {
        "id": "view-in-github",
        "colab_type": "text"
      },
      "source": [
        "<a href=\"https://colab.research.google.com/github/NestorRodriguez/MisionTIC-2022-Ciclo1/blob/main/OperadoresLogicos.ipynb\" target=\"_parent\"><img src=\"https://colab.research.google.com/assets/colab-badge.svg\" alt=\"Open In Colab\"/></a>"
      ]
    },
    {
      "cell_type": "markdown",
      "source": [
        "Operadores lógicos:"
      ],
      "metadata": {
        "id": "YdYwNYu_A3EW"
      }
    },
    {
      "cell_type": "code",
      "execution_count": 25,
      "metadata": {
        "colab": {
          "base_uri": "https://localhost:8080/"
        },
        "id": "EWlgS8f2AzCT",
        "outputId": "5ff6cbd9-8b88-4833-a68f-29f1a7ee141d"
      },
      "outputs": [
        {
          "output_type": "stream",
          "name": "stdout",
          "text": [
            "Es mayor\n",
            "La o esta en la palabra\n",
            "4\n",
            "a\n"
          ]
        }
      ],
      "source": [
        "# Mayor >\n",
        "# Menor <\n",
        "# Mayor o igual que >=\n",
        "# Menor o igual que <=\n",
        "# Igual ==\n",
        "# no es igual !=\n",
        "\n",
        "num = 5\n",
        "if num < 5:\n",
        "  print('Si es menor o igual')\n",
        "else:\n",
        "  print('Es mayor')\n",
        "\n",
        "palabra = 'Hola'\n",
        "if 'o' in palabra:\n",
        "  print('La o esta en la palabra')\n",
        "else:\n",
        "  print('No tiene la vocal o')\n",
        "# len es longitud en inglés (length)\n",
        "print(len(palabra))\n",
        "print(palabra[3])\n"
      ]
    },
    {
      "cell_type": "markdown",
      "source": [
        ""
      ],
      "metadata": {
        "id": "PtmXO5czA1HM"
      }
    }
  ]
}