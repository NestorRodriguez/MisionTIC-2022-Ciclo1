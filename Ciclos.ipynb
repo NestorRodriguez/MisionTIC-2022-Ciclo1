{
  "nbformat": 4,
  "nbformat_minor": 0,
  "metadata": {
    "colab": {
      "name": "Ciclos.ipynb",
      "provenance": [],
      "authorship_tag": "ABX9TyPH8Ut4SNu6DNcS8n4qQZuQ",
      "include_colab_link": true
    },
    "kernelspec": {
      "name": "python3",
      "display_name": "Python 3"
    },
    "language_info": {
      "name": "python"
    }
  },
  "cells": [
    {
      "cell_type": "markdown",
      "metadata": {
        "id": "view-in-github",
        "colab_type": "text"
      },
      "source": [
        "<a href=\"https://colab.research.google.com/github/NestorRodriguez/MisionTIC-2022-Ciclo1/blob/main/Ciclos.ipynb\" target=\"_parent\"><img src=\"https://colab.research.google.com/assets/colab-badge.svg\" alt=\"Open In Colab\"/></a>"
      ]
    },
    {
      "cell_type": "markdown",
      "source": [
        "Ciclos - for"
      ],
      "metadata": {
        "id": "8CeT46FVC_4i"
      }
    },
    {
      "cell_type": "code",
      "source": [
        "# lista\n",
        "lista = [1,36,5,10,42]\n",
        "# for\n",
        "for valor in lista:\n",
        "  print(valor)"
      ],
      "metadata": {
        "colab": {
          "base_uri": "https://localhost:8080/"
        },
        "id": "ZHQZv6bXDAVs",
        "outputId": "099b6147-a923-437a-89f7-7ba876701ff2"
      },
      "execution_count": 4,
      "outputs": [
        {
          "output_type": "stream",
          "name": "stdout",
          "text": [
            "1\n",
            "36\n",
            "5\n",
            "10\n",
            "42\n"
          ]
        }
      ]
    },
    {
      "cell_type": "code",
      "source": [
        "# Diciconario\n",
        "diccionario = { \"nombre\":'Juan', \"edad\":25, \"correo\":'nnn@nn.com' }\n",
        "\n",
        "for elemento in diccionario:\n",
        "  print(elemento)\n",
        "  print(diccionario[elemento])\n",
        "\n",
        "print(diccionario['nombre'])"
      ],
      "metadata": {
        "colab": {
          "base_uri": "https://localhost:8080/"
        },
        "id": "RpEf2ofuFkoa",
        "outputId": "33757479-8dbe-45d7-d8dc-7d204d50ddd8"
      },
      "execution_count": 13,
      "outputs": [
        {
          "output_type": "stream",
          "name": "stdout",
          "text": [
            "nombre\n",
            "Juan\n",
            "edad\n",
            "25\n",
            "correo\n",
            "nnn@nn.com\n",
            "Juan\n"
          ]
        }
      ]
    },
    {
      "cell_type": "markdown",
      "source": [
        "\n",
        "\n",
        "```\n",
        "# Esto tiene formato de código\n",
        "```\n",
        "\n"
      ],
      "metadata": {
        "id": "0C1XFxruFizB"
      }
    },
    {
      "cell_type": "markdown",
      "source": [
        "While"
      ],
      "metadata": {
        "id": "euwnlgZ5KSMB"
      }
    },
    {
      "cell_type": "code",
      "execution_count": 17,
      "metadata": {
        "colab": {
          "base_uri": "https://localhost:8080/"
        },
        "id": "E2FvpIIA-C0O",
        "outputId": "f27ee6a4-0d41-49de-f966-da0131ddae5d"
      },
      "outputs": [
        {
          "output_type": "stream",
          "name": "stdout",
          "text": [
            "10\n",
            "9\n",
            "8\n",
            "7\n",
            "6\n",
            "5\n",
            "4\n",
            "3\n",
            "2\n",
            "segundo ciclo\n",
            "1\n",
            "2\n",
            "3\n",
            "4\n",
            "5\n",
            "6\n",
            "7\n",
            "8\n",
            "9\n",
            "10\n"
          ]
        }
      ],
      "source": [
        "valor = 10\n",
        "\n",
        "while valor > 1:\n",
        "  print(valor)\n",
        "  valor = valor -1\n",
        "valor = 1\n",
        "print('segundo ciclo')\n",
        "\n",
        "while valor <= 10:\n",
        "  print(valor)\n",
        "  valor = valor + 1\n",
        "\n",
        "\n"
      ]
    },
    {
      "cell_type": "markdown",
      "source": [
        "\n",
        "\n",
        "---\n",
        "\n"
      ],
      "metadata": {
        "id": "wQcpHmt4C9uS"
      }
    }
  ]
}