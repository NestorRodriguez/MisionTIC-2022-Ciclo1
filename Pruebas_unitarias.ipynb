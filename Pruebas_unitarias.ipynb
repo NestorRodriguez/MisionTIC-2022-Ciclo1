{
  "nbformat": 4,
  "nbformat_minor": 0,
  "metadata": {
    "colab": {
      "name": "Pruebas unitarias.ipynb",
      "provenance": [],
      "authorship_tag": "ABX9TyPpgKYuXLkMJxBxf2RIcLI7",
      "include_colab_link": true
    },
    "kernelspec": {
      "name": "python3",
      "display_name": "Python 3"
    },
    "language_info": {
      "name": "python"
    }
  },
  "cells": [
    {
      "cell_type": "markdown",
      "metadata": {
        "id": "view-in-github",
        "colab_type": "text"
      },
      "source": [
        "<a href=\"https://colab.research.google.com/github/NestorRodriguez/MisionTIC-2022-Ciclo1/blob/main/Pruebas_unitarias.ipynb\" target=\"_parent\"><img src=\"https://colab.research.google.com/assets/colab-badge.svg\" alt=\"Open In Colab\"/></a>"
      ]
    },
    {
      "cell_type": "code",
      "execution_count": 6,
      "metadata": {
        "colab": {
          "base_uri": "https://localhost:8080/"
        },
        "id": "cbk8RxuXQqGO",
        "outputId": "792618f7-3852-412a-a822-d1a748ad09b8"
      },
      "outputs": [
        {
          "output_type": "stream",
          "name": "stdout",
          "text": [
            "Overwriting rectangulo_test.py\n"
          ]
        }
      ],
      "source": [
        "# Escribir la prueba\n",
        "%%file rectangulo_test.py\n",
        "\n",
        "from rectangulo import *\n",
        "import pytest\n",
        "\n",
        "def test_area():\n",
        "  # acción que me permite validar la función\n",
        "  # Se compone de realidad / expectativa\n",
        "  assert area_rectangulo(3, 3) == 9"
      ]
    },
    {
      "cell_type": "code",
      "source": [
        "# El código fuente\n",
        "# Área del triangulo\n",
        "%%writefile rectangulo.py\n",
        "\n",
        "def area_rectangulo(base, altura):\n",
        "  # Escriba su código desde aqui\n",
        "  return base * altura"
      ],
      "metadata": {
        "colab": {
          "base_uri": "https://localhost:8080/"
        },
        "id": "D64vp4sdRHvV",
        "outputId": "e2bec1e1-1c3c-4bcf-f29d-bd72e17fe322"
      },
      "execution_count": 7,
      "outputs": [
        {
          "output_type": "stream",
          "name": "stdout",
          "text": [
            "Overwriting rectangulo.py\n"
          ]
        }
      ]
    },
    {
      "cell_type": "code",
      "source": [
        "# La prueba\n",
        "!pytest rectangulo_test.py"
      ],
      "metadata": {
        "colab": {
          "base_uri": "https://localhost:8080/"
        },
        "id": "z-t82OgeRJrd",
        "outputId": "b0c0a006-cfaa-4a7f-9045-66e609b50251"
      },
      "execution_count": 8,
      "outputs": [
        {
          "output_type": "stream",
          "name": "stdout",
          "text": [
            "\u001b[1m============================= test session starts ==============================\u001b[0m\n",
            "platform linux -- Python 3.7.13, pytest-3.6.4, py-1.11.0, pluggy-0.7.1\n",
            "rootdir: /content, inifile:\n",
            "plugins: typeguard-2.7.1\n",
            "\u001b[1m\rcollecting 0 items                                                             \u001b[0m\u001b[1m\rcollecting 1 item                                                              \u001b[0m\u001b[1m\rcollected 1 item                                                               \u001b[0m\n",
            "\n",
            "rectangulo_test.py .\u001b[36m                                                     [100%]\u001b[0m\n",
            "\n",
            "\u001b[32m\u001b[1m=========================== 1 passed in 0.02 seconds ===========================\u001b[0m\n"
          ]
        }
      ]
    }
  ]
}