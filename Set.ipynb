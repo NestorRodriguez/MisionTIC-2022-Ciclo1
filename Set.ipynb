{
  "nbformat": 4,
  "nbformat_minor": 0,
  "metadata": {
    "colab": {
      "name": "Set.ipynb",
      "provenance": [],
      "authorship_tag": "ABX9TyN50XtsidHhbobvAsxbj164",
      "include_colab_link": true
    },
    "kernelspec": {
      "name": "python3",
      "display_name": "Python 3"
    },
    "language_info": {
      "name": "python"
    }
  },
  "cells": [
    {
      "cell_type": "markdown",
      "metadata": {
        "id": "view-in-github",
        "colab_type": "text"
      },
      "source": [
        "<a href=\"https://colab.research.google.com/github/NestorRodriguez/MisionTIC-2022-Ciclo1/blob/main/Set.ipynb\" target=\"_parent\"><img src=\"https://colab.research.google.com/assets/colab-badge.svg\" alt=\"Open In Colab\"/></a>"
      ]
    },
    {
      "cell_type": "code",
      "execution_count": 18,
      "metadata": {
        "colab": {
          "base_uri": "https://localhost:8080/"
        },
        "id": "xw5ODLmI9iNp",
        "outputId": "3ec64b10-c7ee-4184-e666-10e9708f11e8"
      },
      "outputs": [
        {
          "output_type": "stream",
          "name": "stdout",
          "text": [
            "{'Play', 'Tv', 'Teatro en casa'}\n",
            "3\n",
            "True\n",
            "{'Nevera', 'Play', 'Tv', 'Horno', 'Teatro en casa'}\n",
            "{'Nevera', 'Play', 'Tv', 'Teatro en casa'}\n",
            "{'Nevera', 'Play', 'Tv', 'Teatro en casa'}\n",
            "set()\n"
          ]
        }
      ],
      "source": [
        "# Estructuras de datos - Set\n",
        "electrodomesticos = {'Tv', 'Play', 'Teatro en casa'}\n",
        "print(electrodomesticos)\n",
        "# Longitud\n",
        "print(len(electrodomesticos))\n",
        "# Revisión si existe un valor\n",
        "print('Tv' in electrodomesticos)\n",
        "# Adición \n",
        "electrodomesticos.add('Horno')\n",
        "electrodomesticos.add('Horno')\n",
        "electrodomesticos.add('Nevera')\n",
        "print(electrodomesticos)\n",
        "# Remover\n",
        "electrodomesticos.remove('Horno')\n",
        "print(electrodomesticos)\n",
        "# Eliminar elemento sin error\n",
        "electrodomesticos.discard('HORNO')\n",
        "print(electrodomesticos)\n",
        "# limpiarlo - borrar los elementos internos\n",
        "electrodomesticos.clear()\n",
        "print(electrodomesticos)\n",
        "# Eliminar el Set\n",
        "del electrodomesticos\n",
        "#print(electrodomesticos)"
      ]
    }
  ]
}