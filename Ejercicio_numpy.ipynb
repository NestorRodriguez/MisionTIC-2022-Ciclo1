{
  "nbformat": 4,
  "nbformat_minor": 0,
  "metadata": {
    "colab": {
      "name": "Ejercicio numpy.ipynb",
      "provenance": [],
      "authorship_tag": "ABX9TyNxGqXUPTNCCmSK3yF0XZRU",
      "include_colab_link": true
    },
    "kernelspec": {
      "name": "python3",
      "display_name": "Python 3"
    },
    "language_info": {
      "name": "python"
    }
  },
  "cells": [
    {
      "cell_type": "markdown",
      "metadata": {
        "id": "view-in-github",
        "colab_type": "text"
      },
      "source": [
        "<a href=\"https://colab.research.google.com/github/NestorRodriguez/MisionTIC-2022-Ciclo1/blob/main/Ejercicio_numpy.ipynb\" target=\"_parent\"><img src=\"https://colab.research.google.com/assets/colab-badge.svg\" alt=\"Open In Colab\"/></a>"
      ]
    },
    {
      "cell_type": "code",
      "execution_count": 34,
      "metadata": {
        "colab": {
          "base_uri": "https://localhost:8080/"
        },
        "id": "E1tfraTes2yd",
        "outputId": "30b7087d-9161-4c49-a081-595e342ef12b"
      },
      "outputs": [
        {
          "output_type": "stream",
          "name": "stdout",
          "text": [
            "1\n",
            "False\n",
            "2\n",
            "False\n",
            "34\n",
            "False\n",
            "1\n",
            "False\n",
            "2\n",
            "False\n",
            "10\n",
            "False\n",
            "fin del for\n",
            "Termina función\n",
            "False\n",
            "True\n"
          ]
        }
      ],
      "source": [
        "# Comprobar si algun(os) de los valores númericos que esten en un arreglo son igual a 0 (funciones)\n",
        "import numpy as np\n",
        "def comprobar(arreglo):\n",
        "  estado = False\n",
        "  for valor in arreglo:\n",
        "    if valor == 0:\n",
        "      estado = True\n",
        "      break\n",
        "    print(valor)\n",
        "    print(estado)\n",
        "  else:\n",
        "    print('fin del for') \n",
        "  print('Termina función')\n",
        "  return estado\n",
        "\n",
        "array = [1, 2, 34, 1, 2, 10]\n",
        "print(comprobar(array))\n",
        "print(np.all(array))"
      ]
    },
    {
      "cell_type": "code",
      "source": [
        "# Ordenar vectores\n",
        "import numpy as np\n",
        "\n",
        "matriz = [[1,2,3],[0,5,2],[9,2,0]]\n",
        "print(matriz)\n",
        "ordenar_columnas = np.sort(matriz,axis=0)\n",
        "# print(ordenar_columnas)\n",
        "ordenar_filas = np.sort(matriz,axis=1)\n",
        "# print(ordenar_filas)\n",
        "vector = np.sort(matriz,axis=None)\n",
        "print(vector)"
      ],
      "metadata": {
        "colab": {
          "base_uri": "https://localhost:8080/"
        },
        "id": "2iXcOxu4LoWA",
        "outputId": "f2bd24a7-4794-4c8f-934a-1439f1a8237a"
      },
      "execution_count": 39,
      "outputs": [
        {
          "output_type": "stream",
          "name": "stdout",
          "text": [
            "[[1, 2, 3], [0, 5, 2], [9, 2, 0]]\n",
            "[0 0 1 2 2 2 3 5 9]\n"
          ]
        }
      ]
    }
  ]
}