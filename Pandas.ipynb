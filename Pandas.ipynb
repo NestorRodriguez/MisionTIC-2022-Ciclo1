{
  "nbformat": 4,
  "nbformat_minor": 0,
  "metadata": {
    "colab": {
      "name": "Pandas.ipynb",
      "provenance": [],
      "authorship_tag": "ABX9TyN4JEJ0FZNaN8VI2nJMEwBu",
      "include_colab_link": true
    },
    "kernelspec": {
      "name": "python3",
      "display_name": "Python 3"
    },
    "language_info": {
      "name": "python"
    }
  },
  "cells": [
    {
      "cell_type": "markdown",
      "metadata": {
        "id": "view-in-github",
        "colab_type": "text"
      },
      "source": [
        "<a href=\"https://colab.research.google.com/github/NestorRodriguez/MisionTIC-2022-Ciclo1/blob/main/Pandas.ipynb\" target=\"_parent\"><img src=\"https://colab.research.google.com/assets/colab-badge.svg\" alt=\"Open In Colab\"/></a>"
      ]
    },
    {
      "cell_type": "code",
      "execution_count": 41,
      "metadata": {
        "colab": {
          "base_uri": "https://localhost:8080/",
          "height": 1000
        },
        "id": "LrST_iUzoqzX",
        "outputId": "20313b47-6ad3-4630-e79e-51c6519937bc"
      },
      "outputs": [
        {
          "output_type": "stream",
          "name": "stdout",
          "text": [
            "Colombia    Bogota\n",
            "Bolivia     La paz\n",
            "dtype: object\n",
            "(2,)\n",
            "2\n",
            "Bogota\n",
            "[[1 2 3]\n",
            " [4 5 6]]\n",
            "   0  1  2\n",
            "0  1  2  3\n",
            "1  4  5  6\n",
            "(2, 3)\n",
            "2\n",
            "<bound method NDFrame.describe of    0  1  2\n",
            "0  1  2  3\n",
            "1  4  5  6>\n",
            "0    2.5\n",
            "1    3.5\n",
            "2    4.5\n",
            "dtype: float64\n",
            "0    2.5\n",
            "1    3.5\n",
            "2    4.5\n",
            "dtype: float64\n",
            "     0    1    2\n",
            "0  1.0  1.0  1.0\n",
            "1  1.0  1.0  1.0\n",
            "2  1.0  1.0  1.0\n",
            "0    2\n",
            "1    2\n",
            "2    2\n",
            "dtype: int64\n",
            "0    4\n",
            "1    5\n",
            "2    6\n",
            "dtype: int64\n",
            "0    1\n",
            "1    2\n",
            "2    3\n",
            "dtype: int64\n",
            "Columna\n",
            "0    1\n",
            "1    4\n",
            "Name: 0, dtype: int64\n",
            "iloc\n",
            "3\n",
            "solo\n",
            "4\n",
            "0    4\n",
            "1    5\n",
            "2    6\n",
            "Name: 1, dtype: int64\n"
          ]
        },
        {
          "output_type": "error",
          "ename": "AttributeError",
          "evalue": "ignored",
          "traceback": [
            "\u001b[0;31m---------------------------------------------------------------------------\u001b[0m",
            "\u001b[0;31mAttributeError\u001b[0m                            Traceback (most recent call last)",
            "\u001b[0;32m<ipython-input-41-8f803da50beb>\u001b[0m in \u001b[0;36m<module>\u001b[0;34m()\u001b[0m\n\u001b[1;32m     37\u001b[0m \u001b[0;31m# Seleccionar fila\u001b[0m\u001b[0;34m\u001b[0m\u001b[0;34m\u001b[0m\u001b[0;34m\u001b[0m\u001b[0m\n\u001b[1;32m     38\u001b[0m \u001b[0mprint\u001b[0m\u001b[0;34m(\u001b[0m\u001b[0mdata\u001b[0m\u001b[0;34m.\u001b[0m\u001b[0mloc\u001b[0m\u001b[0;34m[\u001b[0m\u001b[0;36m1\u001b[0m\u001b[0;34m]\u001b[0m\u001b[0;34m)\u001b[0m\u001b[0;34m\u001b[0m\u001b[0;34m\u001b[0m\u001b[0m\n\u001b[0;32m---> 39\u001b[0;31m \u001b[0mprint\u001b[0m\u001b[0;34m(\u001b[0m\u001b[0mdata\u001b[0m\u001b[0;34m.\u001b[0m\u001b[0mlist\u001b[0m\u001b[0;34m(\u001b[0m\u001b[0;34m)\u001b[0m\u001b[0;34m)\u001b[0m\u001b[0;34m\u001b[0m\u001b[0;34m\u001b[0m\u001b[0m\n\u001b[0m\u001b[1;32m     40\u001b[0m \u001b[0mprint\u001b[0m\u001b[0;34m(\u001b[0m\u001b[0mdata\u001b[0m\u001b[0;34m.\u001b[0m\u001b[0mtolist\u001b[0m\u001b[0;34m(\u001b[0m\u001b[0;34m)\u001b[0m\u001b[0;34m)\u001b[0m\u001b[0;34m\u001b[0m\u001b[0;34m\u001b[0m\u001b[0m\n",
            "\u001b[0;32m/usr/local/lib/python3.7/dist-packages/pandas/core/generic.py\u001b[0m in \u001b[0;36m__getattr__\u001b[0;34m(self, name)\u001b[0m\n\u001b[1;32m   5485\u001b[0m         ):\n\u001b[1;32m   5486\u001b[0m             \u001b[0;32mreturn\u001b[0m \u001b[0mself\u001b[0m\u001b[0;34m[\u001b[0m\u001b[0mname\u001b[0m\u001b[0;34m]\u001b[0m\u001b[0;34m\u001b[0m\u001b[0;34m\u001b[0m\u001b[0m\n\u001b[0;32m-> 5487\u001b[0;31m         \u001b[0;32mreturn\u001b[0m \u001b[0mobject\u001b[0m\u001b[0;34m.\u001b[0m\u001b[0m__getattribute__\u001b[0m\u001b[0;34m(\u001b[0m\u001b[0mself\u001b[0m\u001b[0;34m,\u001b[0m \u001b[0mname\u001b[0m\u001b[0;34m)\u001b[0m\u001b[0;34m\u001b[0m\u001b[0;34m\u001b[0m\u001b[0m\n\u001b[0m\u001b[1;32m   5488\u001b[0m \u001b[0;34m\u001b[0m\u001b[0m\n\u001b[1;32m   5489\u001b[0m     \u001b[0;32mdef\u001b[0m \u001b[0m__setattr__\u001b[0m\u001b[0;34m(\u001b[0m\u001b[0mself\u001b[0m\u001b[0;34m,\u001b[0m \u001b[0mname\u001b[0m\u001b[0;34m:\u001b[0m \u001b[0mstr\u001b[0m\u001b[0;34m,\u001b[0m \u001b[0mvalue\u001b[0m\u001b[0;34m)\u001b[0m \u001b[0;34m->\u001b[0m \u001b[0;32mNone\u001b[0m\u001b[0;34m:\u001b[0m\u001b[0;34m\u001b[0m\u001b[0;34m\u001b[0m\u001b[0m\n",
            "\u001b[0;31mAttributeError\u001b[0m: 'DataFrame' object has no attribute 'list'"
          ]
        }
      ],
      "source": [
        "# Pandas\n",
        "import pandas as pd\n",
        "import numpy as np\n",
        "\n",
        "# Series (Array)\n",
        "serie = pd.Series({\"Colombia\":\"Bogota\",\"Bolivia\":\"La paz\"})\n",
        "print(serie)\n",
        "print(serie.shape)\n",
        "print(len(serie.index))\n",
        "print(serie[0])\n",
        "\n",
        "# Dataframe (Matriz)\n",
        "array = np.array([[1,2,3],[4,5,6]])\n",
        "print(array)\n",
        "data = pd.DataFrame(array)\n",
        "print(data)\n",
        "print(data.shape)\n",
        "print(len(data.index))\n",
        "print(data.describe)\n",
        "# Media\n",
        "print(data.mean())\n",
        "# Mediana\n",
        "print(data.median())\n",
        "# Correlación\n",
        "print(data.corr())\n",
        "# Conteo\n",
        "print(data.count())\n",
        "print(data.max())\n",
        "print(data.min())\n",
        "# seleccionar Columna\n",
        "print('Columna')\n",
        "print(data[0])\n",
        "print('iloc')\n",
        "print(data.iloc[0][2])\n",
        "print('solo')\n",
        "print(data[0][1])\n",
        "# Seleccionar fila\n",
        "print(data.loc[1])\n",
        "print(data.list())\n",
        "print(data.tolist())"
      ]
    }
  ]
}