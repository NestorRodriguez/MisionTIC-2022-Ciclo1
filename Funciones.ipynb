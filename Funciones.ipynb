{
  "nbformat": 4,
  "nbformat_minor": 0,
  "metadata": {
    "colab": {
      "name": "Funciones.ipynb",
      "provenance": [],
      "authorship_tag": "ABX9TyOOcxi3lr7J8i24/qCqvEse",
      "include_colab_link": true
    },
    "kernelspec": {
      "name": "python3",
      "display_name": "Python 3"
    },
    "language_info": {
      "name": "python"
    }
  },
  "cells": [
    {
      "cell_type": "markdown",
      "metadata": {
        "id": "view-in-github",
        "colab_type": "text"
      },
      "source": [
        "<a href=\"https://colab.research.google.com/github/NestorRodriguez/MisionTIC-2022-Ciclo1/blob/main/Funciones.ipynb\" target=\"_parent\"><img src=\"https://colab.research.google.com/assets/colab-badge.svg\" alt=\"Open In Colab\"/></a>"
      ]
    },
    {
      "cell_type": "code",
      "execution_count": 17,
      "metadata": {
        "colab": {
          "base_uri": "https://localhost:8080/"
        },
        "id": "jOedTEuNlp3H",
        "outputId": "4628a6b9-f52a-4050-93f7-b282faa26223"
      },
      "outputs": [
        {
          "output_type": "stream",
          "name": "stdout",
          "text": [
            "Hola\n",
            "mundo\n",
            "True\n",
            "Hola Juan\n",
            "Hola\n",
            "123\n",
            "Juan\n",
            "Perez\n"
          ]
        }
      ],
      "source": [
        "# Funciones\n",
        "def nombreFuncion():\n",
        "  print('Hola')\n",
        "  print('mundo')\n",
        "nombreFuncion()\n",
        "# Función que retorna un valor\n",
        "def retorneValor():\n",
        "  return True\n",
        "valor = retorneValor()\n",
        "print(valor)\n",
        "# Función parámetros\n",
        "def funcionParametro(nombre):\n",
        "  print('Hola '+nombre)\n",
        "funcionParametro('Juan')\n",
        "def funcionVariosParametros(nombre, apellido, direccion):\n",
        "  print('Hola')\n",
        "  print(apellido)\n",
        "  print(nombre)\n",
        "  print(direccion)\n",
        "funcionVariosParametros('Juan',123, 'Perez')"
      ]
    },
    {
      "cell_type": "code",
      "source": [
        "# Ejercicios \n",
        "def validarNombre(name):\n",
        "  if name == 'Carlos':\n",
        "    print('Hola '+name)\n",
        "    return True\n",
        "  else:\n",
        "    print('No puedes ingresar al sistema')\n",
        "    return False\n",
        "\n",
        "print('Hola cual es tu nombre')\n",
        "nombre = input()\n",
        "valor=validarNombre(nombre)\n",
        "if valor:                   # if(condicion){ }\n",
        "  print('Bienvenido '+ nombre + ', a la página de inicio')\n",
        "else:\n",
        "  print('Usuario incorrecto')"
      ],
      "metadata": {
        "colab": {
          "base_uri": "https://localhost:8080/"
        },
        "id": "WTnndP190Vd_",
        "outputId": "a53521f5-0908-457b-f1dc-6c4a374dd514"
      },
      "execution_count": 21,
      "outputs": [
        {
          "output_type": "stream",
          "name": "stdout",
          "text": [
            "Hola cual es tu nombre\n",
            "Juan\n",
            "Usuario incorrecto\n"
          ]
        }
      ]
    },
    {
      "cell_type": "code",
      "source": [
        "def verificarNombre(nombre):\n",
        "  estado = False\n",
        "  tuplaNombre = ('Juan','Pedro','Camilo,','Blanca', 'Andrea')\n",
        "  return nombre in tuplaNombre\n",
        "\n",
        " # for name in tuplaNombre:\n",
        " #  print(name)\n",
        " #  if name == nombre:\n",
        " #    estado = True\n",
        " # return estado\n",
        "\n",
        "print('Hola cual es tu nombre')\n",
        "nombre = input()\n",
        "valor=verificarNombre(nombre)\n",
        "if valor:\n",
        "  print('Bienvenido '+ nombre + ', a la página de inicio')\n",
        "else:\n",
        "  print('Usuario incorrecto')\n",
        "\n"
      ],
      "metadata": {
        "colab": {
          "base_uri": "https://localhost:8080/"
        },
        "id": "ttmvmOv17tTq",
        "outputId": "4dfb4087-2a76-4439-c947-a8c0af332fe3"
      },
      "execution_count": 32,
      "outputs": [
        {
          "output_type": "stream",
          "name": "stdout",
          "text": [
            "Hola cual es tu nombre\n",
            "Nestor\n",
            "False\n"
          ]
        }
      ]
    },
    {
      "cell_type": "code",
      "source": [
        "# Ejercicio - Realizar la validación con un diccionario"
      ],
      "metadata": {
        "id": "G3QlJkFuCwEm"
      },
      "execution_count": null,
      "outputs": []
    }
  ]
}