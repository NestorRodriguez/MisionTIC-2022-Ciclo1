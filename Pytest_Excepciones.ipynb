{
  "nbformat": 4,
  "nbformat_minor": 0,
  "metadata": {
    "colab": {
      "name": "Pytest-Excepciones.ipynb",
      "provenance": [],
      "authorship_tag": "ABX9TyML7JkDn3va1WU6xhr1SJlT",
      "include_colab_link": true
    },
    "kernelspec": {
      "name": "python3",
      "display_name": "Python 3"
    },
    "language_info": {
      "name": "python"
    }
  },
  "cells": [
    {
      "cell_type": "markdown",
      "metadata": {
        "id": "view-in-github",
        "colab_type": "text"
      },
      "source": [
        "<a href=\"https://colab.research.google.com/github/NestorRodriguez/MisionTIC-2022-Ciclo1/blob/main/Pytest_Excepciones.ipynb\" target=\"_parent\"><img src=\"https://colab.research.google.com/assets/colab-badge.svg\" alt=\"Open In Colab\"/></a>"
      ]
    },
    {
      "cell_type": "code",
      "execution_count": 20,
      "metadata": {
        "colab": {
          "base_uri": "https://localhost:8080/"
        },
        "id": "-ZhnoTOaGl6S",
        "outputId": "8e64b94d-ae13-4a68-c327-07e05c5160b0"
      },
      "outputs": [
        {
          "output_type": "stream",
          "name": "stdout",
          "text": [
            "Overwriting rectangulo.py\n"
          ]
        }
      ],
      "source": [
        "%%writefile rectangulo.py\n",
        "\n",
        "def area_rectangulo(base, altura):\n",
        "  if not isinstance(base, (int,float)) or isinstance(altura,(str)):\n",
        "    raise Exception(\"La base y/o la altura deben ser númericas\")\n",
        "  if base < 0 or altura < 0:\n",
        "    raise Exception(\"La base y/o la latura deben ser números positivos\")\n",
        "  return base * altura"
      ]
    },
    {
      "cell_type": "code",
      "source": [
        "%%writefile test_rectangulo.py\n",
        "\n",
        "from rectangulo import *\n",
        "import pytest\n",
        "\n",
        "def test_area():\n",
        "  assert area_rectangulo(2,2) == 4\n",
        "\n",
        "def test_numero_base():\n",
        "  with pytest.raises(Exception):\n",
        "    area_rectangulo(-2,2)\n",
        "\n",
        "def test_numero_altura():\n",
        "  with pytest.raises(Exception):\n",
        "    area_rectangulo(4,-3)\n",
        "\n",
        "def test_string_base():\n",
        "  with pytest.raises(Exception):\n",
        "    area_rectangulo(\"texto\",2)\n",
        "\n",
        "def test_string_altura():\n",
        "  with pytest.raises(Exception):\n",
        "    area_rectangulo(4,\"texto\")"
      ],
      "metadata": {
        "colab": {
          "base_uri": "https://localhost:8080/"
        },
        "id": "yYmBh44RTLss",
        "outputId": "62c60a7a-6243-4fd6-bb5c-8678a3ee9b4e"
      },
      "execution_count": 22,
      "outputs": [
        {
          "output_type": "stream",
          "name": "stdout",
          "text": [
            "Overwriting test_rectangulo.py\n"
          ]
        }
      ]
    },
    {
      "cell_type": "code",
      "source": [
        "!pytest test_rectangulo.py"
      ],
      "metadata": {
        "colab": {
          "base_uri": "https://localhost:8080/"
        },
        "id": "gj30weavUBz1",
        "outputId": "ff0a31fe-2dac-40be-f4d5-e781d30171f6"
      },
      "execution_count": 23,
      "outputs": [
        {
          "output_type": "stream",
          "name": "stdout",
          "text": [
            "\u001b[1m============================= test session starts ==============================\u001b[0m\n",
            "platform linux -- Python 3.7.13, pytest-3.6.4, py-1.11.0, pluggy-0.7.1\n",
            "rootdir: /content, inifile:\n",
            "plugins: typeguard-2.7.1\n",
            "\u001b[1m\rcollecting 0 items                                                             \u001b[0m\u001b[1m\rcollecting 5 items                                                             \u001b[0m\u001b[1m\rcollected 5 items                                                              \u001b[0m\n",
            "\n",
            "test_rectangulo.py .....\u001b[36m                                                 [100%]\u001b[0m\n",
            "\n",
            "\u001b[32m\u001b[1m=========================== 5 passed in 0.02 seconds ===========================\u001b[0m\n"
          ]
        }
      ]
    },
    {
      "cell_type": "code",
      "source": [
        "from rectangulo import *\n",
        "\n",
        "print(area_rectangulo(2,-2))"
      ],
      "metadata": {
        "colab": {
          "base_uri": "https://localhost:8080/",
          "height": 322
        },
        "id": "5iSOY4LjdIuN",
        "outputId": "a4eede78-bec0-427d-9664-17f271232565"
      },
      "execution_count": 24,
      "outputs": [
        {
          "output_type": "error",
          "ename": "Exception",
          "evalue": "ignored",
          "traceback": [
            "\u001b[0;31m---------------------------------------------------------------------------\u001b[0m",
            "\u001b[0;31mException\u001b[0m                                 Traceback (most recent call last)",
            "\u001b[0;32m<ipython-input-24-e737ff7ccbc9>\u001b[0m in \u001b[0;36m<module>\u001b[0;34m()\u001b[0m\n\u001b[1;32m      1\u001b[0m \u001b[0;32mfrom\u001b[0m \u001b[0mrectangulo\u001b[0m \u001b[0;32mimport\u001b[0m \u001b[0;34m*\u001b[0m\u001b[0;34m\u001b[0m\u001b[0;34m\u001b[0m\u001b[0m\n\u001b[1;32m      2\u001b[0m \u001b[0;34m\u001b[0m\u001b[0m\n\u001b[0;32m----> 3\u001b[0;31m \u001b[0mprint\u001b[0m\u001b[0;34m(\u001b[0m\u001b[0marea_rectangulo\u001b[0m\u001b[0;34m(\u001b[0m\u001b[0;36m2\u001b[0m\u001b[0;34m,\u001b[0m\u001b[0;34m-\u001b[0m\u001b[0;36m2\u001b[0m\u001b[0;34m)\u001b[0m\u001b[0;34m)\u001b[0m\u001b[0;34m\u001b[0m\u001b[0;34m\u001b[0m\u001b[0m\n\u001b[0m",
            "\u001b[0;32m/content/rectangulo.py\u001b[0m in \u001b[0;36marea_rectangulo\u001b[0;34m(base, altura)\u001b[0m\n\u001b[1;32m      4\u001b[0m     \u001b[0;32mraise\u001b[0m \u001b[0mException\u001b[0m\u001b[0;34m(\u001b[0m\u001b[0;34m\"La base y/o la altura deben ser númericas\"\u001b[0m\u001b[0;34m)\u001b[0m\u001b[0;34m\u001b[0m\u001b[0;34m\u001b[0m\u001b[0m\n\u001b[1;32m      5\u001b[0m   \u001b[0;32mif\u001b[0m \u001b[0mbase\u001b[0m \u001b[0;34m<\u001b[0m \u001b[0;36m0\u001b[0m \u001b[0;32mor\u001b[0m \u001b[0maltura\u001b[0m \u001b[0;34m<\u001b[0m \u001b[0;36m0\u001b[0m\u001b[0;34m:\u001b[0m\u001b[0;34m\u001b[0m\u001b[0;34m\u001b[0m\u001b[0m\n\u001b[0;32m----> 6\u001b[0;31m     \u001b[0;32mraise\u001b[0m \u001b[0mException\u001b[0m\u001b[0;34m(\u001b[0m\u001b[0;34m\"La base y/o la latura deben ser números positivos\"\u001b[0m\u001b[0;34m)\u001b[0m\u001b[0;34m\u001b[0m\u001b[0;34m\u001b[0m\u001b[0m\n\u001b[0m\u001b[1;32m      7\u001b[0m   \u001b[0;32mreturn\u001b[0m \u001b[0mbase\u001b[0m \u001b[0;34m*\u001b[0m \u001b[0maltura\u001b[0m\u001b[0;34m\u001b[0m\u001b[0;34m\u001b[0m\u001b[0m\n",
            "\u001b[0;31mException\u001b[0m: La base y/o la latura deben ser números positivos"
          ]
        }
      ]
    }
  ]
}