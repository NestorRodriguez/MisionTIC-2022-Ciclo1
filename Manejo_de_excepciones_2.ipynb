{
  "nbformat": 4,
  "nbformat_minor": 0,
  "metadata": {
    "colab": {
      "name": "Manejo de excepciones 2.ipynb",
      "provenance": [],
      "authorship_tag": "ABX9TyNr6FE8r/Jr0eEu1hSdIPhj",
      "include_colab_link": true
    },
    "kernelspec": {
      "name": "python3",
      "display_name": "Python 3"
    },
    "language_info": {
      "name": "python"
    }
  },
  "cells": [
    {
      "cell_type": "markdown",
      "metadata": {
        "id": "view-in-github",
        "colab_type": "text"
      },
      "source": [
        "<a href=\"https://colab.research.google.com/github/NestorRodriguez/MisionTIC-2022-Ciclo1/blob/main/Manejo_de_excepciones_2.ipynb\" target=\"_parent\"><img src=\"https://colab.research.google.com/assets/colab-badge.svg\" alt=\"Open In Colab\"/></a>"
      ]
    },
    {
      "cell_type": "code",
      "execution_count": 7,
      "metadata": {
        "colab": {
          "base_uri": "https://localhost:8080/"
        },
        "id": "T5tA-_y9kVKu",
        "outputId": "5d93f398-3736-469c-c8da-2fd2da3a8f72"
      },
      "outputs": [
        {
          "output_type": "stream",
          "name": "stdout",
          "text": [
            "Función división\n",
            "Código a validar\n",
            "Error\n",
            "Terminar la validación del try\n",
            "Código a validar\n",
            "Terminar la validación del try\n",
            "Código a validar\n",
            "Terminar la validación del try\n",
            "Código a validar\n",
            "Terminar la validación del try\n",
            "Código a validar\n",
            "Terminar la validación del try\n",
            "Código a validar\n",
            "Terminar la validación del try\n",
            "Código a validar\n",
            "Terminar la validación del try\n",
            "Código a validar\n",
            "Terminar la validación del try\n",
            "Código a validar\n",
            "Terminar la validación del try\n",
            "Código a validar\n",
            "Terminar la validación del try\n"
          ]
        }
      ],
      "source": [
        "# Manejo de excepciones\n",
        "numero = 10\n",
        "def division(numero):\n",
        "  print('Función división')\n",
        "  for i in range(10):\n",
        "    try:\n",
        "      # Código q validar\n",
        "      print('Código a validar')\n",
        "      numero /= i # numero = mumero / i\n",
        "      # print(numero)\n",
        "    except TypeError as e:\n",
        "      # lo queraliza el código en la excepción\n",
        "      print(e)\n",
        "    except:\n",
        "      # lo que realiza el código en la excepción\n",
        "      print('Error - Capa de negocio - función división')\n",
        "    finally:\n",
        "      print('Terminar la validación del try')\n",
        "\n",
        "def multiplicacion(numero):\n",
        "  try:\n",
        "    # Código q validar\n",
        "    print('Código a validar')\n",
        "    numero *= i # numero = mumero / i\n",
        "    # print(numero)\n",
        "  except TypeError as e:\n",
        "    # lo queraliza el código en la excepción\n",
        "    print(e)\n",
        "  except:\n",
        "    # lo que realiza el código en la excepción\n",
        "    print('Error - Capa de negocio - función división')\n",
        "  finally:\n",
        "    print('Terminar la validación del try')\n",
        "\n",
        "division(numero)\n",
        "multiplicacion(numero)"
      ]
    }
  ]
}