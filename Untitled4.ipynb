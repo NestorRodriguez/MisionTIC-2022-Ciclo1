{
  "nbformat": 4,
  "nbformat_minor": 0,
  "metadata": {
    "colab": {
      "name": "Untitled4.ipynb",
      "provenance": [],
      "authorship_tag": "ABX9TyPucZuNncz5mKDmbvq5qvRb",
      "include_colab_link": true
    },
    "kernelspec": {
      "name": "python3",
      "display_name": "Python 3"
    },
    "language_info": {
      "name": "python"
    }
  },
  "cells": [
    {
      "cell_type": "markdown",
      "metadata": {
        "id": "view-in-github",
        "colab_type": "text"
      },
      "source": [
        "<a href=\"https://colab.research.google.com/github/NestorRodriguez/MisionTIC-2022-Ciclo1/blob/main/Untitled4.ipynb\" target=\"_parent\"><img src=\"https://colab.research.google.com/assets/colab-badge.svg\" alt=\"Open In Colab\"/></a>"
      ]
    },
    {
      "cell_type": "code",
      "execution_count": 2,
      "metadata": {
        "colab": {
          "base_uri": "https://localhost:8080/"
        },
        "id": "O-Zea9TlDgMa",
        "outputId": "3621db5d-e285-4268-f7d7-aa784074612e"
      },
      "outputs": [
        {
          "output_type": "stream",
          "name": "stdout",
          "text": [
            "4\n",
            "2\n",
            "8\n",
            "5\n",
            "6\n",
            "Fin de la función\n",
            "1\n",
            "2\n",
            "3\n",
            "Fin de la función\n",
            "5\n",
            "6\n",
            "Fin de la función\n",
            "2\n",
            "8\n",
            "5\n",
            "6\n",
            "Fin de la función\n"
          ]
        }
      ],
      "source": [
        "# Funciones con multiples argumentos\n",
        "def multiplesArgumentos(*args): #Tupla\n",
        "  for valor in args:\n",
        "    print(valor)\n",
        "  print('Fin de la función')\n",
        "\n",
        "multiplesArgumentos(4,2,8,5,6)\n",
        "multiplesArgumentos(1,2,3)\n",
        "multiplesArgumentos(5,6)\n",
        "multiplesArgumentos(2,8,5,6)"
      ]
    },
    {
      "cell_type": "code",
      "source": [
        "# Funciones con multiples argumentos\n",
        "def sumar(*termino): #Tupla\n",
        "  resultado = 0\n",
        "  for valor in termino:\n",
        "    # resultado = resultado + valor\n",
        "    resultado += valor\n",
        "  return resultado\n",
        "\n",
        "def multiplicar(*termino): #Tupla\n",
        "  resultado = 1\n",
        "  for valor in termino:\n",
        "    # resultado = resultado + valor\n",
        "    resultado *= valor\n",
        "  return resultado\n",
        "\n",
        "suma = sumar(1,2,3)\n",
        "print(suma)\n",
        "multiplica = multiplicar(3,8)\n",
        "print(multiplica)\n",
        "suma = sumar(400,2500)\n",
        "print(suma)"
      ],
      "metadata": {
        "colab": {
          "base_uri": "https://localhost:8080/"
        },
        "id": "v8qA6aRsGHDy",
        "outputId": "18414d30-b2c1-46d3-9d6f-151009027096"
      },
      "execution_count": 7,
      "outputs": [
        {
          "output_type": "stream",
          "name": "stdout",
          "text": [
            "6\n",
            "24\n",
            "2900\n"
          ]
        }
      ]
    },
    {
      "cell_type": "code",
      "source": [
        "# Funciones con multiples parametros y *args\n",
        "def operar(operacion, *termino): #Tupla\n",
        "  if operacion == 1: # Realizar suma\n",
        "    resultado = 0\n",
        "    for valor in termino:\n",
        "      # resultado = resultado + valor\n",
        "      resultado += valor\n",
        "    return resultado\n",
        "  elif operacion == 2: \n",
        "    resultado = 1\n",
        "    for valor in termino:\n",
        "      # resultado = resultado * valor\n",
        "      resultado *= valor\n",
        "    return resultado\n",
        "\n",
        "\n",
        "operar(1 , 2, 3, 5)\n",
        "operar(2 , 2, 3)\n",
        "operar(2 , 2, 3)"
      ],
      "metadata": {
        "colab": {
          "base_uri": "https://localhost:8080/"
        },
        "id": "g2kgtC84JdKy",
        "outputId": "61424410-a8b0-4900-c8a5-672c561bd6ca"
      },
      "execution_count": 9,
      "outputs": [
        {
          "output_type": "execute_result",
          "data": {
            "text/plain": [
              "6"
            ]
          },
          "metadata": {},
          "execution_count": 9
        }
      ]
    },
    {
      "cell_type": "code",
      "source": [
        "# Realizar la calculadora con las operaciones básicas (Suma, resta, multiplicación y división)"
      ],
      "metadata": {
        "id": "QnSRaZYlL46J"
      },
      "execution_count": null,
      "outputs": []
    }
  ]
}