{
  "nbformat": 4,
  "nbformat_minor": 0,
  "metadata": {
    "colab": {
      "name": "Archivos txt.ipynb",
      "provenance": [],
      "authorship_tag": "ABX9TyNzbzjrIL6DCRp3OUi92Rn5",
      "include_colab_link": true
    },
    "kernelspec": {
      "name": "python3",
      "display_name": "Python 3"
    },
    "language_info": {
      "name": "python"
    }
  },
  "cells": [
    {
      "cell_type": "markdown",
      "metadata": {
        "id": "view-in-github",
        "colab_type": "text"
      },
      "source": [
        "<a href=\"https://colab.research.google.com/github/NestorRodriguez/MisionTIC-2022-Ciclo1/blob/main/Archivos_txt.ipynb\" target=\"_parent\"><img src=\"https://colab.research.google.com/assets/colab-badge.svg\" alt=\"Open In Colab\"/></a>"
      ]
    },
    {
      "cell_type": "code",
      "execution_count": null,
      "metadata": {
        "id": "ISOnlESP375F"
      },
      "outputs": [],
      "source": [
        "!wget https://raw.githubusercontent.com/cosmolejo/dataRepo/master/Frankenstein.txt"
      ]
    },
    {
      "cell_type": "code",
      "source": [
        "# Crear archivos \n",
        "# Creación \n",
        "from io import open\n",
        "\n",
        "# Apertura\n",
        "archivo_texto = open('MatricesCuadradas.txt','w' )\n",
        "\n",
        "# Manipulación\n",
        "frase = 'Estamos aprendiendo a crear archivos en python  \\nMiércoles 25 de mayo de 2022'\n",
        "archivo_texto.write(frase)\n",
        "\n",
        "# Cierre\n",
        "archivo_texto.close()"
      ],
      "metadata": {
        "id": "s8F6fs_ZCtv8"
      },
      "execution_count": 32,
      "outputs": []
    },
    {
      "cell_type": "code",
      "source": [
        "# Leer archivo\n",
        "# Creación \n",
        "# Apertura\n",
        "archivo_texto = open('MatricesCuadradas.txt','r' )\n",
        "\n",
        "#texto = archivo_texto.read()\n",
        "texto = archivo_texto.readlines()\n",
        "print(archivo_texto, type(archivo_texto))\n",
        "# Cierre\n",
        "archivo_texto.close()\n",
        "print(texto)\n",
        "#for i in texto:\n",
        " # print(i)"
      ],
      "metadata": {
        "colab": {
          "base_uri": "https://localhost:8080/"
        },
        "id": "4ySRg2mmGHBC",
        "outputId": "a148ac9d-2611-49c2-f84f-9ba762905aa0"
      },
      "execution_count": 35,
      "outputs": [
        {
          "output_type": "stream",
          "name": "stdout",
          "text": [
            "<_io.TextIOWrapper name='MatricesCuadradas.txt' mode='r' encoding='UTF-8'> <class '_io.TextIOWrapper'>\n",
            "['Estamos aprendiendo a crear archivos en python  \\n', 'Miércoles 25 de mayo de 2022\\n', 'NUNCA PARES DE APRENDER0\\n', '\\n', 'NUNCA PARES DE APRENDER0\\n', '\\n', 'Tamaño de las matrices cuadradas\\n', '1^2 = 1\\n', '2^2 = 4\\n', '3^2 = 9\\n', '4^2 = 16\\n', '5^2 = 25\\n', '6^2 = 36\\n', '7^2 = 49\\n', '8^2 = 64\\n', '9^2 = 81\\n', '10^2 = 100\\n', '11^2 = 121\\n', '12^2 = 144\\n', '13^2 = 169\\n', '14^2 = 196\\n', '15^2 = 225\\n', '16^2 = 256\\n', '17^2 = 289\\n', '18^2 = 324\\n', '19^2 = 361\\n']\n"
          ]
        }
      ]
    },
    {
      "cell_type": "code",
      "source": [
        "# Modificar archivo\n",
        "# Creación \n",
        "# Apertura\n",
        "archivo_texto = open('MatricesCuadradas.txt','a' )\n",
        "\n",
        "# Modificar archivo\n",
        "archivo_texto.write(\"\\nNUNCA PARES DE APRENDER0\\n\")\n",
        "archivo_texto.write(\"\\nTamaño de las matrices cuadradas\\n\")\n",
        "for i in range(1, 20):\n",
        "  archivo_texto.write(f'{i}^2 = {i**2}\\n')\n",
        "\n",
        "# Cierre\n",
        "archivo_texto.close()\n"
      ],
      "metadata": {
        "id": "I735RwSZIXwd"
      },
      "execution_count": 34,
      "outputs": []
    },
    {
      "cell_type": "code",
      "source": [
        ""
      ],
      "metadata": {
        "id": "vtY980TOMcqJ"
      },
      "execution_count": null,
      "outputs": []
    }
  ]
}