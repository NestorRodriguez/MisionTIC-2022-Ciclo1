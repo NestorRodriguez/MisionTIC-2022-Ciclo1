{
  "nbformat": 4,
  "nbformat_minor": 0,
  "metadata": {
    "colab": {
      "name": "Diccionarios.ipynb",
      "provenance": [],
      "authorship_tag": "ABX9TyMRV/TZX0FuUTiWbsB3Qfpy",
      "include_colab_link": true
    },
    "kernelspec": {
      "name": "python3",
      "display_name": "Python 3"
    },
    "language_info": {
      "name": "python"
    }
  },
  "cells": [
    {
      "cell_type": "markdown",
      "metadata": {
        "id": "view-in-github",
        "colab_type": "text"
      },
      "source": [
        "<a href=\"https://colab.research.google.com/github/NestorRodriguez/MisionTIC-2022-Ciclo1/blob/main/Diccionarios.ipynb\" target=\"_parent\"><img src=\"https://colab.research.google.com/assets/colab-badge.svg\" alt=\"Open In Colab\"/></a>"
      ]
    },
    {
      "cell_type": "code",
      "execution_count": 21,
      "metadata": {
        "colab": {
          "base_uri": "https://localhost:8080/"
        },
        "id": "ocKjrw1LKG_K",
        "outputId": "811fb3c6-957b-466f-8c6e-82e043add6de"
      },
      "outputs": [
        {
          "output_type": "stream",
          "name": "stdout",
          "text": [
            "{1: 'Ospina', 10: 'Rodriguez', 13: 'Rincon', 2: 'Escobar'}\n",
            "4\n",
            "{1: 'Ospina', 10: 'Valderrama', 13: 'Rincon', 2: 'Escobar'}\n",
            "1\n",
            "10\n",
            "13\n",
            "2\n",
            "1 Ospina\n",
            "10 Valderrama\n",
            "13 Rincon\n",
            "2 Escobar\n",
            "1\n",
            "10\n",
            "13\n",
            "2\n",
            "Ospina\n",
            "Valderrama\n",
            "Rincon\n",
            "Escobar\n",
            "False\n",
            "{1: 'Ospina', 10: 'Valderrama', 13: 'Rincon', 2: 'Escobar', 9: 'Falcao'}\n",
            "{1: 'Ospina', 10: 'Valderrama', 2: 'Escobar', 9: 'Falcao'}\n",
            "Valderrama\n",
            "{}\n"
          ]
        }
      ],
      "source": [
        "# Estructura de datos - diccionario\n",
        "diccionario = {\n",
        "#keys : values \n",
        "    1 : \"Ospina\", \n",
        "    10: \"Rodriguez\", \n",
        "    13: \"Rincon\", \n",
        "    2 : \"Escobar\"\n",
        "    }\n",
        "print(diccionario)\n",
        "# Longitud\n",
        "print(len(diccionario))\n",
        "# Asignación\n",
        "diccionario[10] = 'Valderrama' \n",
        "print(diccionario)\n",
        "\n",
        "# Recorridos\n",
        "for key in diccionario:\n",
        "  print(key)\n",
        "for llave, valor in diccionario.items():\n",
        "  print(llave, valor)\n",
        "for llave in diccionario.keys():\n",
        "  print(llave)\n",
        "for valor in diccionario.values():\n",
        "  print(valor)\n",
        "\n",
        "# Validación si existe\n",
        "print(20 in diccionario)\n",
        "\n",
        "# Adición\n",
        "diccionario[9] = 'Falcao'\n",
        "print(diccionario)\n",
        "\n",
        "# Remover\n",
        "diccionario.pop(13)\n",
        "print(diccionario)\n",
        "\n",
        "print(diccionario.get(10))\n",
        "\n",
        "# Clear\n",
        "diccionario.clear()\n",
        "print(diccionario)\n",
        "\n",
        "# Eliminar diccionario\n",
        "del diccionario\n",
        "#print(diccionario)\n"
      ]
    }
  ]
}